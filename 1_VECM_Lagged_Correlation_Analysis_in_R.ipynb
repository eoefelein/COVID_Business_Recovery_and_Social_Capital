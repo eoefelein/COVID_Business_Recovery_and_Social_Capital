{
 "cells": [
  {
   "cell_type": "code",
   "execution_count": 1,
   "id": "bace27f9",
   "metadata": {
    "scrolled": true
   },
   "outputs": [
    {
     "name": "stderr",
     "output_type": "stream",
     "text": [
      "Registered S3 method overwritten by 'quantmod':\n",
      "  method            from\n",
      "  as.zoo.data.frame zoo \n",
      "\n",
      "── \u001b[1mAttaching packages\u001b[22m ─────────────────────────────────────── tidyverse 1.3.1 ──\n",
      "\n",
      "\u001b[32m✔\u001b[39m \u001b[34mggplot2\u001b[39m 3.3.5     \u001b[32m✔\u001b[39m \u001b[34mpurrr  \u001b[39m 0.3.4\n",
      "\u001b[32m✔\u001b[39m \u001b[34mtibble \u001b[39m 3.1.4     \u001b[32m✔\u001b[39m \u001b[34mdplyr  \u001b[39m 1.0.7\n",
      "\u001b[32m✔\u001b[39m \u001b[34mtidyr  \u001b[39m 1.1.3     \u001b[32m✔\u001b[39m \u001b[34mstringr\u001b[39m 1.4.0\n",
      "\u001b[32m✔\u001b[39m \u001b[34mreadr  \u001b[39m 2.0.1     \u001b[32m✔\u001b[39m \u001b[34mforcats\u001b[39m 0.5.1\n",
      "\n",
      "── \u001b[1mConflicts\u001b[22m ────────────────────────────────────────── tidyverse_conflicts() ──\n",
      "\u001b[31m✖\u001b[39m \u001b[34mdplyr\u001b[39m::\u001b[32mfilter()\u001b[39m masks \u001b[34mstats\u001b[39m::filter()\n",
      "\u001b[31m✖\u001b[39m \u001b[34mdplyr\u001b[39m::\u001b[32mlag()\u001b[39m    masks \u001b[34mstats\u001b[39m::lag()\n",
      "\n",
      "Loading required package: MASS\n",
      "\n",
      "\n",
      "Attaching package: ‘MASS’\n",
      "\n",
      "\n",
      "The following object is masked from ‘package:dplyr’:\n",
      "\n",
      "    select\n",
      "\n",
      "\n",
      "Loading required package: strucchange\n",
      "\n",
      "Loading required package: zoo\n",
      "\n",
      "\n",
      "Attaching package: ‘zoo’\n",
      "\n",
      "\n",
      "The following objects are masked from ‘package:base’:\n",
      "\n",
      "    as.Date, as.Date.numeric\n",
      "\n",
      "\n",
      "Loading required package: sandwich\n",
      "\n",
      "\n",
      "Attaching package: ‘strucchange’\n",
      "\n",
      "\n",
      "The following object is masked from ‘package:stringr’:\n",
      "\n",
      "    boundary\n",
      "\n",
      "\n",
      "Loading required package: urca\n",
      "\n",
      "Loading required package: lmtest\n",
      "\n",
      "\n",
      "Attaching package: ‘vars’\n",
      "\n",
      "\n",
      "The following object is masked from ‘package:MTS’:\n",
      "\n",
      "    VAR\n",
      "\n",
      "\n"
     ]
    }
   ],
   "source": [
    "# https://people.brandeis.edu/~blebaron/classes/fin250a/regression/armax.html\n",
    "library(forecast)\n",
    "library(tidyverse) # tidy data\n",
    "\n",
    "library(tseries)\n",
    "library(MTS)\n",
    "\n",
    "library(tsDyn)\n",
    "\n",
    "library(vars) # post-estimation procedures to ensure adequacy of model\n",
    "library(urca)\n",
    "library(mFilter)"
   ]
  },
  {
   "cell_type": "markdown",
   "id": "ed24005a",
   "metadata": {},
   "source": [
    "# Lagged Timeseries Analysis\n",
    "- the cross-correlation\n",
    "- the leading variable\n",
    "- the lag\n",
    "\n",
    "# VECM\n",
    "For the sake of demonstration purposes, one county selected at random will be used to demonstrate these concepts."
   ]
  },
  {
   "cell_type": "code",
   "execution_count": 2,
   "id": "c546fe14",
   "metadata": {},
   "outputs": [
    {
     "data": {
      "text/html": [
       "1021"
      ],
      "text/latex": [
       "1021"
      ],
      "text/markdown": [
       "1021"
      ],
      "text/plain": [
       "[1] 1021"
      ]
     },
     "metadata": {},
     "output_type": "display_data"
    }
   ],
   "source": [
    "# generate a random number between 1 and 817\n",
    "sample(0:1191, 1) #400"
   ]
  },
  {
   "cell_type": "markdown",
   "id": "30d27009",
   "metadata": {},
   "source": [
    "# VECM (Vector Error Correction Method)\n",
    "The Coaint-Johansen test tests for co-integration. This would indicate that a linear combination of non-stationary variables could potentially be stationary. Co-integration is determined using the Coaint-Johansen or the Engle-Granger tests. These tests are applied to the original timeseries, rather than to a timeseries first difference. \n",
    "The Coaint-Johansen test or test for co-integration seeks to identify if long-run relationships exist between series, and if so, identifies how many there are. If there is a co-integrating relationship, construct a VECM.VECM produces more efficient coefficient estimates than the next process, VAR. "
   ]
  },
  {
   "cell_type": "code",
   "execution_count": 3,
   "id": "876d5503",
   "metadata": {},
   "outputs": [
    {
     "name": "stderr",
     "output_type": "stream",
     "text": [
      "New names:\n",
      "* `` -> ...1\n",
      "\n",
      "\u001b[1m\u001b[1mRows: \u001b[1m\u001b[22m\u001b[34m\u001b[34m117711\u001b[34m\u001b[39m \u001b[1m\u001b[1mColumns: \u001b[1m\u001b[22m\u001b[34m\u001b[34m6\u001b[34m\u001b[39m\n",
      "\n",
      "\u001b[36m──\u001b[39m \u001b[1m\u001b[1mColumn specification\u001b[1m\u001b[22m \u001b[36m────────────────────────────────────────────────────────\u001b[39m\n",
      "\u001b[1mDelimiter:\u001b[22m \",\"\n",
      "\u001b[32mdbl\u001b[39m  (5): ...1, countyfips, emp_incbelowmed, new_case_rate, gps_away_from_home\n",
      "\u001b[34mdate\u001b[39m (1): date\n",
      "\n",
      "\n",
      "\u001b[36mℹ\u001b[39m Use \u001b[30m\u001b[47m\u001b[30m\u001b[47m`spec()`\u001b[47m\u001b[30m\u001b[49m\u001b[39m to retrieve the full column specification for this data.\n",
      "\u001b[36mℹ\u001b[39m Specify the column types or set \u001b[30m\u001b[47m\u001b[30m\u001b[47m`show_col_types = FALSE`\u001b[47m\u001b[30m\u001b[49m\u001b[39m to quiet this message.\n",
      "\n"
     ]
    }
   ],
   "source": [
    "ts_data <- read_csv('employment_covid_mobility_ts.csv')\n",
    "# drop X column\n",
    "drops <- c(\"X\")\n",
    "ts_data <- ts_data[ , !(names(ts_data) %in% drops)]"
   ]
  },
  {
   "cell_type": "code",
   "execution_count": 4,
   "id": "a0cc8a2b",
   "metadata": {},
   "outputs": [],
   "source": [
    "ts_data$countyfips <- as.character(ts_data$countyfips)"
   ]
  },
  {
   "cell_type": "markdown",
   "id": "253c8c08",
   "metadata": {},
   "source": [
    "Pivot the data."
   ]
  },
  {
   "cell_type": "code",
   "execution_count": 5,
   "id": "bc994df8",
   "metadata": {},
   "outputs": [],
   "source": [
    "pivot_emp <- ts_data %>%\n",
    "    dplyr::select(date, countyfips, emp_incbelowmed) %>%\n",
    "        pivot_wider(names_from = countyfips, values_from = emp_incbelowmed)"
   ]
  },
  {
   "cell_type": "code",
   "execution_count": 6,
   "id": "9308d02d",
   "metadata": {},
   "outputs": [
    {
     "data": {
      "text/html": [
       "<style>\n",
       ".list-inline {list-style: none; margin:0; padding: 0}\n",
       ".list-inline>li {display: inline-block}\n",
       ".list-inline>li:not(:last-child)::after {content: \"\\00b7\"; padding: 0 .5ex}\n",
       "</style>\n",
       "<ol class=list-inline><li>99</li><li>1190</li></ol>\n"
      ],
      "text/latex": [
       "\\begin{enumerate*}\n",
       "\\item 99\n",
       "\\item 1190\n",
       "\\end{enumerate*}\n"
      ],
      "text/markdown": [
       "1. 99\n",
       "2. 1190\n",
       "\n",
       "\n"
      ],
      "text/plain": [
       "[1]   99 1190"
      ]
     },
     "metadata": {},
     "output_type": "display_data"
    }
   ],
   "source": [
    "dim(pivot_emp) # 99 timesteps and 1190 counties"
   ]
  },
  {
   "cell_type": "code",
   "execution_count": 7,
   "id": "0941f7ed",
   "metadata": {},
   "outputs": [],
   "source": [
    "pivot_covid <- ts_data %>%\n",
    "    dplyr::select(date, countyfips, new_case_rate) %>%\n",
    "        pivot_wider(names_from = countyfips, values_from = new_case_rate)"
   ]
  },
  {
   "cell_type": "code",
   "execution_count": 8,
   "id": "5ca53fe7",
   "metadata": {},
   "outputs": [
    {
     "data": {
      "text/html": [
       "<style>\n",
       ".list-inline {list-style: none; margin:0; padding: 0}\n",
       ".list-inline>li {display: inline-block}\n",
       ".list-inline>li:not(:last-child)::after {content: \"\\00b7\"; padding: 0 .5ex}\n",
       "</style>\n",
       "<ol class=list-inline><li>99</li><li>1190</li></ol>\n"
      ],
      "text/latex": [
       "\\begin{enumerate*}\n",
       "\\item 99\n",
       "\\item 1190\n",
       "\\end{enumerate*}\n"
      ],
      "text/markdown": [
       "1. 99\n",
       "2. 1190\n",
       "\n",
       "\n"
      ],
      "text/plain": [
       "[1]   99 1190"
      ]
     },
     "metadata": {},
     "output_type": "display_data"
    }
   ],
   "source": [
    "dim(pivot_covid) # 99 timesteps and 1190 counties"
   ]
  },
  {
   "cell_type": "code",
   "execution_count": 9,
   "id": "6d86dab8",
   "metadata": {},
   "outputs": [],
   "source": [
    "pivot_mobility <- ts_data %>%\n",
    "    dplyr::select(date, countyfips, gps_away_from_home) %>%\n",
    "        pivot_wider(names_from = countyfips, values_from = gps_away_from_home)"
   ]
  },
  {
   "cell_type": "markdown",
   "id": "6a012dc0",
   "metadata": {},
   "source": [
    "## convert to timeseries"
   ]
  },
  {
   "cell_type": "code",
   "execution_count": 10,
   "id": "fd78c70c",
   "metadata": {},
   "outputs": [],
   "source": [
    "pivot_emp_ts <- data.frame(apply(pivot_emp[,2:1190], 2, function(x) ts(x)), check.names=FALSE)\n",
    "pivot_emp_ts$date <- pivot_emp$date"
   ]
  },
  {
   "cell_type": "code",
   "execution_count": 11,
   "id": "3425bb2d",
   "metadata": {},
   "outputs": [],
   "source": [
    "pivot_covid_ts <- data.frame(apply(pivot_covid[,2:1085], 2, function(x) ts(x)),check.names=FALSE)\n",
    "pivot_covid_ts$date <- pivot_covid$date"
   ]
  },
  {
   "cell_type": "code",
   "execution_count": 12,
   "id": "4ee87638",
   "metadata": {},
   "outputs": [],
   "source": [
    "pivot_mobility_ts <- data.frame(apply(pivot_mobility[,2:1085], 2, function(x) ts(x)),check.names=FALSE)\n",
    "pivot_mobility_ts$date <- pivot_mobility$date"
   ]
  },
  {
   "cell_type": "markdown",
   "id": "c210966b",
   "metadata": {},
   "source": [
    "## choose county at random"
   ]
  },
  {
   "cell_type": "code",
   "execution_count": 13,
   "id": "d41d0ae6",
   "metadata": {},
   "outputs": [],
   "source": [
    "#choose random county and store emp timeseries to emp\n",
    "emp <- pivot_emp[,1028]\n",
    "#colnames(emp)[1] <- c(\"emp\")"
   ]
  },
  {
   "cell_type": "code",
   "execution_count": 15,
   "id": "50308b5d",
   "metadata": {},
   "outputs": [],
   "source": [
    "#choose random county and store covid timeseries to covid19\n",
    "covid19 <- pivot_covid[,1028]\n",
    "colnames(covid19)[1] <- c(\"covid\")"
   ]
  },
  {
   "cell_type": "code",
   "execution_count": 16,
   "id": "ae962466",
   "metadata": {},
   "outputs": [],
   "source": [
    "#choose random county and store covid timeseries to covid19\n",
    "mobility <- pivot_mobility[,1028]\n",
    "colnames(mobility)[1] <- c(\"mobility\")"
   ]
  },
  {
   "cell_type": "markdown",
   "id": "f3ce0460",
   "metadata": {},
   "source": [
    "## bind to one object"
   ]
  },
  {
   "cell_type": "code",
   "execution_count": 17,
   "id": "e89a9c1d",
   "metadata": {},
   "outputs": [],
   "source": [
    "dset <- cbind(emp, covid19, mobility)"
   ]
  },
  {
   "cell_type": "markdown",
   "id": "4e444a42",
   "metadata": {},
   "source": [
    "# test for lag selection // determine lag length\n",
    " - use VARselect\n",
    " - estimate VAR in levels and choose lag specification that minimizes the information criterion\n",
    " \n",
    "## Method 1"
   ]
  },
  {
   "cell_type": "code",
   "execution_count": 35,
   "id": "70025735",
   "metadata": {},
   "outputs": [
    {
     "name": "stderr",
     "output_type": "stream",
     "text": [
      "Warning message in log(sigma.det):\n",
      "“NaNs produced”\n",
      "Warning message in log(sigma.det):\n",
      "“NaNs produced”\n",
      "Warning message in log(sigma.det):\n",
      "“NaNs produced”\n"
     ]
    },
    {
     "data": {
      "text/html": [
       "<style>\n",
       ".dl-inline {width: auto; margin:0; padding: 0}\n",
       ".dl-inline>dt, .dl-inline>dd {float: none; width: auto; display: inline-block}\n",
       ".dl-inline>dt::after {content: \":\\0020\"; padding-right: .5ex}\n",
       ".dl-inline>dt:not(:first-of-type) {padding-left: .5ex}\n",
       "</style><dl class=dl-inline><dt>AIC(n)</dt><dd>23</dd><dt>HQ(n)</dt><dd>23</dd><dt>SC(n)</dt><dd>23</dd><dt>FPE(n)</dt><dd>22</dd></dl>\n"
      ],
      "text/latex": [
       "\\begin{description*}\n",
       "\\item[AIC(n)] 23\n",
       "\\item[HQ(n)] 23\n",
       "\\item[SC(n)] 23\n",
       "\\item[FPE(n)] 22\n",
       "\\end{description*}\n"
      ],
      "text/markdown": [
       "AIC(n)\n",
       ":   23HQ(n)\n",
       ":   23SC(n)\n",
       ":   23FPE(n)\n",
       ":   22\n",
       "\n"
      ],
      "text/plain": [
       "AIC(n)  HQ(n)  SC(n) FPE(n) \n",
       "    23     23     23     22 "
      ]
     },
     "metadata": {},
     "output_type": "display_data"
    }
   ],
   "source": [
    "# lag selection criteria\n",
    "lagSelect <- VARselect(dset, lag.max = 30, type = \"const\")\n",
    "lagSelect$selection # 3 was chosen most often"
   ]
  },
  {
   "cell_type": "markdown",
   "id": "24c2a733",
   "metadata": {},
   "source": [
    "## Method 2"
   ]
  },
  {
   "cell_type": "code",
   "execution_count": 33,
   "id": "3175109a",
   "metadata": {},
   "outputs": [
    {
     "name": "stderr",
     "output_type": "stream",
     "text": [
      "Warning message in log(sigma.det):\n",
      "“NaNs produced”\n",
      "Warning message in log(sigma.det):\n",
      "“NaNs produced”\n",
      "Warning message in log(sigma.det):\n",
      "“NaNs produced”\n"
     ]
    },
    {
     "data": {
      "text/html": [
       "<strong>AIC(n):</strong> 23"
      ],
      "text/latex": [
       "\\textbf{AIC(n):} 23"
      ],
      "text/markdown": [
       "**AIC(n):** 23"
      ],
      "text/plain": [
       "AIC(n) \n",
       "    23 "
      ]
     },
     "metadata": {},
     "output_type": "display_data"
    }
   ],
   "source": [
    "# Estimate VAR\n",
    "var_aic <- vars::VAR(dset, lag.max = 30, type = \"const\", ic = \"AIC\", season = NULL)\n",
    "\n",
    "# Lag order suggested by AIC\n",
    "var_aic$p"
   ]
  },
  {
   "cell_type": "markdown",
   "id": "b440ca90",
   "metadata": {},
   "source": [
    "The first method may be preferred as many tests are applied. The lag occuring most often is the selected lag. Here, the VEC model corresponding to the VAR in levels has 23 lags."
   ]
  },
  {
   "cell_type": "markdown",
   "id": "30c8f4ba",
   "metadata": {},
   "source": [
    "# specify the maximum likelihood estimator of the Johanssen test\n",
    "1) uses the trace statistic approach\n",
    "2) uses the maximum eigenvalue\n",
    "Estimating the Vector Error Correction requires the inclusion of deterministic terms. A common strategy is to add a linear term to the error correction term and add a constant to the non-cointegration part of the equation. "
   ]
  },
  {
   "cell_type": "markdown",
   "id": "725fee25",
   "metadata": {},
   "source": [
    "### without linear trend"
   ]
  },
  {
   "cell_type": "code",
   "execution_count": 19,
   "id": "82ed2e46",
   "metadata": {
    "scrolled": true
   },
   "outputs": [
    {
     "data": {
      "text/plain": [
       "\n",
       "###################### \n",
       "# Johansen-Procedure # \n",
       "###################### \n",
       "\n",
       "Test type: trace statistic , without linear trend and constant in cointegration \n",
       "\n",
       "Eigenvalues (lambda):\n",
       "[1]  7.897248e-01  5.183679e-01  1.036293e-01 -7.494005e-16\n",
       "\n",
       "Values of teststatistic and critical values of test:\n",
       "\n",
       "           test 10pct  5pct  1pct\n",
       "r <= 2 |   8.42  7.52  9.24 12.97\n",
       "r <= 1 |  64.68 17.85 19.96 24.60\n",
       "r = 0  | 184.75 32.00 34.91 41.07\n",
       "\n",
       "Eigenvectors, normalised to first column:\n",
       "(These are the cointegration relations)\n",
       "\n",
       "               X48479.l22     covid.l22 mobility.l22     constant\n",
       "X48479.l22    1.000000000  1.0000000000   1.00000000  1.000000000\n",
       "covid.l22    -0.001736248 -0.0005309413  -0.00972061 -0.009772328\n",
       "mobility.l22 -0.979763641  1.6867065052   2.48095340  3.356131944\n",
       "constant      0.279624965  0.4143357467   0.52077718  0.560343007\n",
       "\n",
       "Weights W:\n",
       "(This is the loading matrix)\n",
       "\n",
       "              X48479.l22    covid.l22  mobility.l22      constant\n",
       "X48479.d     -0.05270173   0.06787369   -0.03450012 -4.636173e-11\n",
       "covid.d    6143.17942382 106.98077445 -188.51018048  6.038811e-06\n",
       "mobility.d    0.64128956   0.34280158    0.12531260  1.174063e-09\n"
      ]
     },
     "metadata": {},
     "output_type": "display_data"
    }
   ],
   "source": [
    "ctest.trace <- urca::ca.jo(dset, type ='trace', ecdet = \"const\", K = 22, season = NULL) # accounts for model intercepts\n",
    "# calculates rank of cointegration matrix rs\n",
    "summary(ctest.trace) "
   ]
  },
  {
   "cell_type": "markdown",
   "id": "885ab1c9",
   "metadata": {},
   "source": [
    "The values of test statistic and critical values of test table pertain to critical values at the 10%, 5% and 1% significance levels. As is typical, we will use a critical value of 5%.\n",
    "r represents the route of your error correction terms matrix and pertains to the number of cointegrating relationships that exist. We find the trace test statistics in the first column.\n",
    " - When r=0, the test statistic is greater than the value specified at the 5% level (34.91). This suggests that we reject the null and there is at least one (1) cointegrating relationship.\n",
    " - When r<=1, the test statistic is greater than the value specified at the 5% level (19.96). This suggests that we reject the null and there are at least two (2) cointegrating relationships.\n",
    " - When r<=2, the test statistic is less than the value specified at the 5% level (9.24). This suggests that we fail to reject the null.\n",
    " \n",
    "There are therefore, at least two (2) cointegrating relationships in this system."
   ]
  },
  {
   "cell_type": "code",
   "execution_count": 20,
   "id": "af9d404b",
   "metadata": {
    "scrolled": true
   },
   "outputs": [
    {
     "data": {
      "text/plain": [
       "\n",
       "###################### \n",
       "# Johansen-Procedure # \n",
       "###################### \n",
       "\n",
       "Test type: maximal eigenvalue statistic (lambda max) , without linear trend and constant in cointegration \n",
       "\n",
       "Eigenvalues (lambda):\n",
       "[1]  7.897248e-01  5.183679e-01  1.036293e-01 -7.494005e-16\n",
       "\n",
       "Values of teststatistic and critical values of test:\n",
       "\n",
       "           test 10pct  5pct  1pct\n",
       "r <= 2 |   8.42  7.52  9.24 12.97\n",
       "r <= 1 |  56.25 13.75 15.67 20.20\n",
       "r = 0  | 120.07 19.77 22.00 26.81\n",
       "\n",
       "Eigenvectors, normalised to first column:\n",
       "(These are the cointegration relations)\n",
       "\n",
       "               X48479.l22     covid.l22 mobility.l22     constant\n",
       "X48479.l22    1.000000000  1.0000000000   1.00000000  1.000000000\n",
       "covid.l22    -0.001736248 -0.0005309413  -0.00972061 -0.009772328\n",
       "mobility.l22 -0.979763641  1.6867065052   2.48095340  3.356131944\n",
       "constant      0.279624965  0.4143357467   0.52077718  0.560343007\n",
       "\n",
       "Weights W:\n",
       "(This is the loading matrix)\n",
       "\n",
       "              X48479.l22    covid.l22  mobility.l22      constant\n",
       "X48479.d     -0.05270173   0.06787369   -0.03450012 -4.636173e-11\n",
       "covid.d    6143.17942382 106.98077445 -188.51018048  6.038811e-06\n",
       "mobility.d    0.64128956   0.34280158    0.12531260  1.174063e-09\n"
      ]
     },
     "metadata": {},
     "output_type": "display_data"
    }
   ],
   "source": [
    "ctest.eigen <- ca.jo(dset, type ='eigen', ecdet = \"const\", K = 22) # accounts for model intercepts\n",
    "summary(ctest.eigen)"
   ]
  },
  {
   "cell_type": "markdown",
   "id": "a3055ed5",
   "metadata": {},
   "source": [
    "The conclusion is the same as there appear to be at least two (2) cointegrating relationships in this system."
   ]
  },
  {
   "cell_type": "markdown",
   "id": "e1be346d",
   "metadata": {},
   "source": [
    "### with linear trend"
   ]
  },
  {
   "cell_type": "code",
   "execution_count": 34,
   "id": "edb68f92",
   "metadata": {},
   "outputs": [
    {
     "data": {
      "text/plain": [
       "\n",
       "###################### \n",
       "# Johansen-Procedure # \n",
       "###################### \n",
       "\n",
       "Test type: trace statistic , with linear trend \n",
       "\n",
       "Eigenvalues (lambda):\n",
       "[1] 0.8781720 0.6040655 0.1144544\n",
       "\n",
       "Values of teststatistic and critical values of test:\n",
       "\n",
       "           test 10pct  5pct  1pct\n",
       "r <= 2 |   9.24  6.50  8.18 11.65\n",
       "r <= 1 |  79.65 15.66 17.95 23.52\n",
       "r = 0  | 239.64 28.71 31.52 37.22\n",
       "\n",
       "Eigenvectors, normalised to first column:\n",
       "(These are the cointegration relations)\n",
       "\n",
       "               X48479.l23    covid.l23 mobility.l23\n",
       "X48479.l23    1.000000000  1.000000000  1.000000000\n",
       "covid.l23    -0.001470783 -0.007220507 -0.008203121\n",
       "mobility.l23 -0.840617173 -8.545106378  2.059954864\n",
       "\n",
       "Weights W:\n",
       "(This is the loading matrix)\n",
       "\n",
       "              X48479.l23    covid.l23 mobility.l23\n",
       "X48479.d       0.5659127  -0.01930686  -0.02463982\n",
       "covid.d    11641.5117690 204.43696823 174.34264202\n",
       "mobility.d    -0.1895023  -0.16940342   0.18087481\n"
      ]
     },
     "metadata": {},
     "output_type": "display_data"
    }
   ],
   "source": [
    "# Estimate\n",
    "ctest.linear <- ca.jo(dset, ecdet = \"none\", type = \"trace\", K = 23, season = NULL)\n",
    "summary(ctest.linear)"
   ]
  },
  {
   "cell_type": "markdown",
   "id": "7bf86506",
   "metadata": {},
   "source": [
    "### We read this matrix result in much the same way. Here, our results differ in that this matrix seems to suggest that three (3) co-integrating relationships are present."
   ]
  },
  {
   "cell_type": "markdown",
   "id": "11ecab30",
   "metadata": {},
   "source": [
    "## Build VECM"
   ]
  },
  {
   "cell_type": "code",
   "execution_count": 21,
   "id": "b4d36c31",
   "metadata": {},
   "outputs": [],
   "source": [
    "model = VECM(dset, 22, r=2, estim=(\"ML\")) # specify data, lags, cointegrating relationships"
   ]
  },
  {
   "cell_type": "code",
   "execution_count": 22,
   "id": "7a4822f7",
   "metadata": {},
   "outputs": [
    {
     "name": "stderr",
     "output_type": "stream",
     "text": [
      "Warning message in if (class(x) == \"numeric\") return(noquote(r)):\n",
      "“the condition has length > 1 and only the first element will be used”\n",
      "Warning message in if (class(x) == \"matrix\") return(matrix(noquote(r), ncol = ncol(x), :\n",
      "“the condition has length > 1 and only the first element will be used”\n",
      "Warning message in if (class(x) == \"numeric\") return(noquote(r)):\n",
      "“the condition has length > 1 and only the first element will be used”\n",
      "Warning message in if (class(x) == \"matrix\") return(matrix(noquote(r), ncol = ncol(x), :\n",
      "“the condition has length > 1 and only the first element will be used”\n"
     ]
    },
    {
     "data": {
      "text/plain": [
       "#############\n",
       "###Model VECM \n",
       "#############\n",
       "Full sample size: 99 \tEnd sample size: 76\n",
       "Number of variables: 3 \tNumber of estimated slope parameters 207\n",
       "AIC -2023.384 \tBIC -1536.261 \tSSR 140.0888\n",
       "Cointegrating vector (estimated by ML):\n",
       "   48479 covid    mobility\n",
       "r1     1     0    1.130194\n",
       "r2     0     1 1339.975059\n",
       "\n",
       "\n",
       "                  ECT1                     ECT2               \n",
       "Equation 48479    0.5466(0.1647)*          -0.0007(0.0003)*   \n",
       "Equation covid    11845.9354(2026.8513)*** -18.5982(3.1775)***\n",
       "Equation mobility -0.3589(1.1205)          0.0015(0.0018)     \n",
       "                  Intercept              48479 -1                 \n",
       "Equation 48479    0.1629(0.0469)*        -1.0990(0.2625)**        \n",
       "Equation covid    3302.5072(576.8394)*** -2152.4978(3229.5914)    \n",
       "Equation mobility -0.0380(0.3189)        1.1911(1.7855)           \n",
       "                  covid -1            mobility -1            \n",
       "Equation 48479    0.0007(0.0002)*     0.2502(0.1858)         \n",
       "Equation covid    17.4749(2.9400)***  9514.5352(2286.1827)** \n",
       "Equation mobility -0.0015(0.0016)     -1.9152(1.2639)        \n",
       "                  48479 -2                 covid -2           \n",
       "Equation 48479    0.4283(0.2089).          0.0006(0.0002)*    \n",
       "Equation covid    10041.1711(2570.5662)**  17.0413(2.9521)*** \n",
       "Equation mobility -2.5589(1.4211)          -0.0015(0.0016)    \n",
       "                  mobility -2             48479 -3               \n",
       "Equation 48479    0.1787(0.1527)          0.6077(0.2632).        \n",
       "Equation covid    8828.6212(1878.5312)**  610.9686(3238.3644)    \n",
       "Equation mobility -1.9578(1.0385)         -1.0867(1.7903)        \n",
       "                  covid -3            mobility -3            \n",
       "Equation 48479    0.0007(0.0002)*     0.0602(0.1558)         \n",
       "Equation covid    17.0243(2.9646)***  8094.2296(1916.5267)** \n",
       "Equation mobility -0.0014(0.0016)     -1.7266(1.0595)        \n",
       "                  48479 -4                  covid -4           \n",
       "Equation 48479    0.6565(0.2729)*           0.0006(0.0002)*    \n",
       "Equation covid    -20918.9732(3358.5280)*** 16.5219(2.8756)*** \n",
       "Equation mobility -1.2541(1.8567)           -0.0015(0.0016)    \n",
       "                  mobility -4             48479 -5                 \n",
       "Equation 48479    0.2193(0.1601)          -0.6223(0.5979)          \n",
       "Equation covid    6167.2772(1969.7282)*   -42431.8290(7356.7980)***\n",
       "Equation mobility -2.1560(1.0890).        0.9466(4.0672)           \n",
       "                  covid -5            mobility -5            \n",
       "Equation 48479    0.0006(0.0002)*     0.0862(0.1258)         \n",
       "Equation covid    15.7297(2.7692)***  4938.4896(1547.8688)*  \n",
       "Equation mobility -0.0013(0.0015)     -2.0499(0.8557)*       \n",
       "                  48479 -6                  covid -6           \n",
       "Equation 48479    -1.8554(0.7503)*          0.0006(0.0002)*    \n",
       "Equation covid    -34293.3280(9232.5200)**  15.4155(2.6911)*** \n",
       "Equation mobility 3.7077(5.1042)            -0.0014(0.0015)    \n",
       "                  mobility -6             48479 -7                 \n",
       "Equation 48479    -0.1190(0.1208)         -1.0074(0.3910)*         \n",
       "Equation covid    3406.8537(1486.8507).   -7162.3754(4811.5994)    \n",
       "Equation mobility -1.5891(0.8220).        0.8589(2.6601)           \n",
       "                  covid -7            mobility -7            \n",
       "Equation 48479    0.0005(0.0002)*     -0.0255(0.1314)        \n",
       "Equation covid    13.9429(2.5878)**   5753.5282(1617.0019)** \n",
       "Equation mobility -0.0013(0.0014)     -2.5590(0.8940)*       \n",
       "                  48479 -8                covid -8           \n",
       "Equation 48479    0.0776(0.2382)          0.0005(0.0002)*    \n",
       "Equation covid    9324.0329(2930.7177)*   13.3741(2.3551)*** \n",
       "Equation mobility -1.2376(1.6202)         -0.0013(0.0013)    \n",
       "                  mobility -8             48479 -9                \n",
       "Equation 48479    0.0002(0.1695)          -0.4308(0.3606)         \n",
       "Equation covid    5999.5397(2085.8459)*   2391.5515(4437.5711)    \n",
       "Equation mobility -2.2697(1.1532).        0.7640(2.4533)          \n",
       "                  covid -9            mobility -9             \n",
       "Equation 48479    0.0004(0.0002).     0.0676(0.1559)          \n",
       "Equation covid    12.6530(2.2585)***  2279.9337(1918.2713)    \n",
       "Equation mobility -0.0012(0.0012)     -2.1063(1.0605).        \n",
       "                  48479 -10                 covid -10          \n",
       "Equation 48479    -0.5087(0.2529).          0.0004(0.0002).    \n",
       "Equation covid    -5645.4686(3112.2190)     12.1087(2.2324)*** \n",
       "Equation mobility -0.5237(1.7206)           -0.0013(0.0012)    \n",
       "                  mobility -10            48479 -11                \n",
       "Equation 48479    -0.1143(0.1261)         -0.6310(0.2633)*         \n",
       "Equation covid    4472.6981(1552.1194)*   -17854.9242(3239.2360)***\n",
       "Equation mobility -2.0928(0.8581)*        -1.7683(1.7908)          \n",
       "                  covid -11           mobility -11             \n",
       "Equation 48479    0.0004(0.0002).     -0.0865(0.1797)          \n",
       "Equation covid    11.1743(2.0923)**   -1103.4868(2210.8347)    \n",
       "Equation mobility -0.0013(0.0012)     -2.2134(1.2223)          \n",
       "                  48479 -12                 covid -12          \n",
       "Equation 48479    -1.6476(0.4143)**         0.0003(0.0002)     \n",
       "Equation covid    -26690.4541(5097.6549)**  9.9112(1.8765)**   \n",
       "Equation mobility 3.2346(2.8182)            -0.0011(0.0010)    \n",
       "                  mobility -12             48479 -13                \n",
       "Equation 48479    -0.0464(0.1273)          -1.5833(0.4509)**        \n",
       "Equation covid    -207.3316(1566.5201)     -20023.3042(5548.7005)** \n",
       "Equation mobility -1.6896(0.8660).         3.6832(3.0676)           \n",
       "                  covid -13           mobility -13             \n",
       "Equation 48479    0.0003(0.0001)      -0.3600(0.1461)*         \n",
       "Equation covid    8.9590(1.7645)**    -2412.7824(1798.0895)    \n",
       "Equation mobility -0.0012(0.0010)     -1.3310(0.9941)          \n",
       "                  48479 -14                 covid -14          \n",
       "Equation 48479    -0.3941(0.3546)           0.0002(0.0001)     \n",
       "Equation covid    -17659.5541(4363.1573)**  7.3013(1.5651)**   \n",
       "Equation mobility 1.1508(2.4122)            -0.0011(0.0009)    \n",
       "                  mobility -14            48479 -15                \n",
       "Equation 48479    -0.1313(0.1370)         0.3415(0.3171)           \n",
       "Equation covid    950.2460(1685.8031)     -12458.6873(3901.3600)*  \n",
       "Equation mobility -1.6478(0.9320)         -2.1700(2.1569)          \n",
       "                  covid -15           mobility -15            \n",
       "Equation 48479    0.0001(0.0001)      0.0952(0.1336)          \n",
       "Equation covid    5.9869(1.3133)**    2839.0151(1644.3972)    \n",
       "Equation mobility -0.0011(0.0007)     -2.1590(0.9091)*        \n",
       "                  48479 -16                 covid -16            \n",
       "Equation 48479    -0.3756(0.3614)            7.7e-05(9.5e-05)    \n",
       "Equation covid    -6059.7306(4447.0438)     4.7300(1.1672)**     \n",
       "Equation mobility -1.1609(2.4585)           -0.0011(0.0006)      \n",
       "                  mobility -16              48479 -17               \n",
       "Equation 48479    0.0331(0.1048)            -0.1121(0.2121)         \n",
       "Equation covid    -1217.5579(1289.0358)     1709.8639(2610.1825)    \n",
       "Equation mobility -1.0991(0.7126)           0.0171(1.4430)          \n",
       "                  covid -17             mobility -17            \n",
       "Equation 48479     4.0e-05(8.5e-05)     -0.0348(0.0835)         \n",
       "Equation covid    3.1590(1.0459)*       -421.3557(1026.9062)    \n",
       "Equation mobility -0.0011(0.0006)       -1.3548(0.5677)*        \n",
       "                  48479 -18                covid -18            \n",
       "Equation 48479    -0.1292(0.3103)          -4.7e-05(7.0e-05)    \n",
       "Equation covid    12767.0733(3817.8600)*   1.5975(0.8584)       \n",
       "Equation mobility -0.7388(2.1107)          -0.0010(0.0005).     \n",
       "                  mobility -18             48479 -19               \n",
       "Equation 48479    -0.2192(0.1107).         0.4441(0.2643)          \n",
       "Equation covid    -3133.1763(1361.6310).   -248.6900(3252.0246)    \n",
       "Equation mobility -0.6032(0.7528)          -1.8465(1.7979)         \n",
       "                  covid -19           mobility -19           \n",
       "Equation 48479    -0.0006(0.0002)**   0.0415(0.0763)         \n",
       "Equation covid    -0.5216(2.0386)     -1867.6111(938.8718).  \n",
       "Equation mobility 0.0011(0.0011)      -0.9988(0.5191).       \n",
       "                  48479 -20                 covid -20         \n",
       "Equation 48479    0.2914(0.2497)            -0.0004(0.0001)*  \n",
       "Equation covid    -23929.5091(3072.0911)*** 0.3867(1.5994)    \n",
       "Equation mobility -2.1478(1.6984)           0.0006(0.0009)    \n",
       "                  mobility -20            48479 -21                \n",
       "Equation 48479    -0.2219(0.0770)*        -2.0736(0.6185)*         \n",
       "Equation covid    -2207.9706(947.7675).   -33297.7099(7610.3015)** \n",
       "Equation mobility -0.1163(0.5240)         4.4531(4.2073)           \n",
       "                  covid -21            mobility -21          \n",
       "Equation 48479    -0.0003(0.0001)*     -0.0669(0.0674)       \n",
       "Equation covid    -0.8426(1.3416)      153.0711(829.8205)    \n",
       "Equation mobility  1.2e-05(0.0007)     -0.3395(0.4588)       \n",
       "                  48479 -22                 covid -22          \n",
       "Equation 48479    -1.6018(0.5416)*          -0.0004(0.0001)**  \n",
       "Equation covid    -21061.9000(6664.4509)*   -0.5044(1.2825)    \n",
       "Equation mobility 3.5731(3.6844)            0.0010(0.0007)     \n",
       "                  mobility -22           \n",
       "Equation 48479    0.2357(0.0787)*        \n",
       "Equation covid    1152.3538(968.6093)    \n",
       "Equation mobility -1.2294(0.5355).       "
      ]
     },
     "metadata": {},
     "output_type": "display_data"
    }
   ],
   "source": [
    "summary(model)"
   ]
  },
  {
   "cell_type": "markdown",
   "id": "c7a841d1",
   "metadata": {},
   "source": [
    "Indicates a small, positive correlation between covid and emp, and a big positive relationship between mobility and covid.*** results can vary based on order of variables\n",
    "The model summary also logs the Error Correction Term (ECT), the intercept and each variable at various lags (**emp - 1** indicates emp at lag 1). And asterik* next to the lag indicates significance. \n",
    "The most significant variables and their lags indicate mostly long-run relationships and include variables at: \n",
    " - emp - 11\n",
    " - covid - 10\n",
    " - covid - 8\n",
    " - covid - 6\n",
    " - emp - 5\n",
    " - covid - 4\n",
    " - covid - 3 \n",
    " - and covid - 2\n",
    "\n",
    "This indicates a delayed relationship for the indicated variables and their value at the indicated lags."
   ]
  },
  {
   "cell_type": "markdown",
   "id": "af79198d",
   "metadata": {},
   "source": [
    "# convert to VAR -- move this to VAR notebook"
   ]
  },
  {
   "cell_type": "code",
   "execution_count": 24,
   "id": "27a7587c",
   "metadata": {},
   "outputs": [],
   "source": [
    "VARmodel <- vec2var(ctest.trace, r=2)"
   ]
  },
  {
   "cell_type": "code",
   "execution_count": 25,
   "id": "e79b8789",
   "metadata": {},
   "outputs": [
    {
     "data": {
      "text/plain": [
       "\n",
       "\tPortmanteau Test (asymptotic)\n",
       "\n",
       "data:  Residuals of VAR object VARmodel\n",
       "Chi-squared = 285.62, df = 3, p-value < 2.2e-16\n",
       "\n",
       "$serial\n",
       "\n",
       "\tPortmanteau Test (asymptotic)\n",
       "\n",
       "data:  Residuals of VAR object VARmodel\n",
       "Chi-squared = 285.62, df = 3, p-value < 2.2e-16\n",
       "\n"
      ]
     },
     "metadata": {},
     "output_type": "display_data"
    }
   ],
   "source": [
    "serial.test(VARmodel, lags.pt = 22, type = 'PT.asymptotic')"
   ]
  },
  {
   "cell_type": "code",
   "execution_count": null,
   "id": "ea1413f9",
   "metadata": {},
   "outputs": [],
   "source": [
    "# arch effects would indicate clustered volatility in the model"
   ]
  }
 ],
 "metadata": {
  "kernelspec": {
   "display_name": "R",
   "language": "R",
   "name": "ir"
  },
  "language_info": {
   "codemirror_mode": "r",
   "file_extension": ".r",
   "mimetype": "text/x-r-source",
   "name": "R",
   "pygments_lexer": "r",
   "version": "4.1.1"
  }
 },
 "nbformat": 4,
 "nbformat_minor": 5
}
