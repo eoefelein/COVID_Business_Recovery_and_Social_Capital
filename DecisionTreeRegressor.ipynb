{
 "cells": [
  {
   "cell_type": "code",
   "execution_count": 24,
   "id": "cb4860bf",
   "metadata": {},
   "outputs": [
    {
     "name": "stderr",
     "output_type": "stream",
     "text": [
      "\n",
      "Attaching package: ‘Metrics’\n",
      "\n",
      "\n",
      "The following objects are masked from ‘package:caret’:\n",
      "\n",
      "    precision, recall\n",
      "\n",
      "\n"
     ]
    }
   ],
   "source": [
    "# https://www.geeksforgeeks.org/decision-tree-for-regression-in-r-programming/\n",
    "library(rpart)\n",
    "library(caret)\n",
    "library(tidyverse)\n",
    "library(Metrics)"
   ]
  },
  {
   "cell_type": "markdown",
   "id": "14104240",
   "metadata": {},
   "source": [
    "## Decision Tree\n",
    "Each split is created after examining every feature and picking the best split from all the features."
   ]
  },
  {
   "cell_type": "code",
   "execution_count": 2,
   "id": "22164c98",
   "metadata": {},
   "outputs": [],
   "source": [
    "ml_data <- read.csv('ml_predict_data.csv')"
   ]
  },
  {
   "cell_type": "code",
   "execution_count": 3,
   "id": "c5bd582a",
   "metadata": {},
   "outputs": [],
   "source": [
    "# assign countyname col to ml_data idx\n",
    "row.names(ml_data) <- ml_data$X\n",
    "# drop X col\n",
    "drops <- c('X')\n",
    "ml_data <- ml_data[, !(names(ml_data) %in% drops)]"
   ]
  },
  {
   "cell_type": "code",
   "execution_count": 7,
   "id": "278bc123",
   "metadata": {},
   "outputs": [],
   "source": [
    "# Split out validation dataset\n",
    "# create a list of 80% of the rows in the original dataset we can use for training\n",
    "set.seed(1)\n",
    "validation_index <- createDataPartition(ml_data$avg_perc_change, p=0.80, list=FALSE)\n",
    "# select 20% of the data for validation\n",
    "testing <- ml_data[-validation_index,]\n",
    "# use the remaining 80% of data to training and testing the models\n",
    "training <- ml_data[validation_index,]"
   ]
  },
  {
   "cell_type": "markdown",
   "id": "9ec3f673",
   "metadata": {},
   "source": [
    "## Unscaled"
   ]
  },
  {
   "cell_type": "code",
   "execution_count": 8,
   "id": "6712affa",
   "metadata": {},
   "outputs": [],
   "source": [
    "# Create decision tree using regression\n",
    "fit <- rpart(avg_perc_change ~ ., method = \"anova\", data = training)"
   ]
  },
  {
   "cell_type": "code",
   "execution_count": 40,
   "id": "168d3961",
   "metadata": {},
   "outputs": [],
   "source": [
    "# Output to be present as PNG file\n",
    "png(file = \"decTree.png\", width = 600, height = 600)\n",
    "  \n",
    "# Plot\n",
    "plot(fit, uniform = TRUE, main = \"avg_perc_change Decision Tree using Regression\")\n",
    "text(fit, use.n = TRUE, cex = .7)"
   ]
  },
  {
   "cell_type": "code",
   "execution_count": 13,
   "id": "d96d8347",
   "metadata": {},
   "outputs": [],
   "source": [
    "prediction <- predict(fit, testing, method = \"anova\")"
   ]
  },
  {
   "cell_type": "code",
   "execution_count": 22,
   "id": "3b8ebe6e",
   "metadata": {},
   "outputs": [],
   "source": [
    "y_test <- testing$avg_perc_change\n",
    "residuals <- y_test - prediction\n",
    "\n",
    "prediction_residual <- data.frame(prediction, residuals)\n",
    "names(prediction_residual)[2] <- 'residuals'\n",
    "\n",
    "act_pred_resid <- prediction_residual %>% add_column(actual = y_test)"
   ]
  },
  {
   "cell_type": "code",
   "execution_count": 27,
   "id": "04191601",
   "metadata": {},
   "outputs": [
    {
     "data": {
      "text/html": [
       "0.185222675151737"
      ],
      "text/latex": [
       "0.185222675151737"
      ],
      "text/markdown": [
       "0.185222675151737"
      ],
      "text/plain": [
       "[1] 0.1852227"
      ]
     },
     "metadata": {},
     "output_type": "display_data"
    }
   ],
   "source": [
    "rmse(act_pred_resid$actual, act_pred_resid$prediction)"
   ]
  },
  {
   "cell_type": "markdown",
   "id": "86eda267",
   "metadata": {},
   "source": [
    "## Scaled"
   ]
  },
  {
   "cell_type": "code",
   "execution_count": 28,
   "id": "0a5ef4d8",
   "metadata": {},
   "outputs": [],
   "source": [
    "# function to scale X\n",
    "normalize <- function(x) {\n",
    "    return((x - min(x))/(max(x) - min(x)))\n",
    "}"
   ]
  },
  {
   "cell_type": "code",
   "execution_count": 29,
   "id": "42657acb",
   "metadata": {},
   "outputs": [],
   "source": [
    "y_train <- unlist(training[c('avg_perc_change')])\n",
    "X_train <- data.frame(lapply(training[, 2:21], normalize))\n",
    "\n",
    "y_test <- unlist(testing[c('avg_perc_change')])\n",
    "X_test <- data.frame(lapply(testing[, 2:21], normalize))"
   ]
  },
  {
   "cell_type": "code",
   "execution_count": 34,
   "id": "333276de",
   "metadata": {},
   "outputs": [],
   "source": [
    "# Create decision tree using regression\n",
    "fit_scaled <- rpart(y_train ~ ., method = \"anova\", data = cbind(X_train, y_train))"
   ]
  },
  {
   "cell_type": "code",
   "execution_count": null,
   "id": "1dab64d2",
   "metadata": {},
   "outputs": [],
   "source": []
  },
  {
   "cell_type": "code",
   "execution_count": 35,
   "id": "b0c9121b",
   "metadata": {},
   "outputs": [],
   "source": [
    "prediction_scaled <- predict(fit_scaled, testing, method = \"anova\")"
   ]
  },
  {
   "cell_type": "code",
   "execution_count": 37,
   "id": "702cda78",
   "metadata": {},
   "outputs": [],
   "source": [
    "y_test <- testing$avg_perc_change\n",
    "residuals <- y_test - prediction\n",
    "\n",
    "prediction_residual_scaled <- data.frame(prediction_scaled, residuals)\n",
    "names(prediction_residual_scaled)[2] <- 'residuals'\n",
    "\n",
    "act_pred_resid_scaled <- prediction_residual_scaled %>% add_column(actual = y_test)"
   ]
  },
  {
   "cell_type": "code",
   "execution_count": 39,
   "id": "bf79e412",
   "metadata": {},
   "outputs": [
    {
     "data": {
      "text/html": [
       "0.163703400656111"
      ],
      "text/latex": [
       "0.163703400656111"
      ],
      "text/markdown": [
       "0.163703400656111"
      ],
      "text/plain": [
       "[1] 0.1637034"
      ]
     },
     "metadata": {},
     "output_type": "display_data"
    }
   ],
   "source": [
    "rmse(act_pred_resid_scaled$actual, act_pred_resid_scaled$prediction_scaled)"
   ]
  }
 ],
 "metadata": {
  "kernelspec": {
   "display_name": "R",
   "language": "R",
   "name": "ir"
  },
  "language_info": {
   "codemirror_mode": "r",
   "file_extension": ".r",
   "mimetype": "text/x-r-source",
   "name": "R",
   "pygments_lexer": "r",
   "version": "4.1.1"
  }
 },
 "nbformat": 4,
 "nbformat_minor": 5
}
