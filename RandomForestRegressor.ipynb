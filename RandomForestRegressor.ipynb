{
 "cells": [
  {
   "cell_type": "code",
   "execution_count": 1,
   "id": "6c7d3908",
   "metadata": {},
   "outputs": [],
   "source": [
    "# https://rpubs.com/jkylearmstrong/Random_Forest_Regression"
   ]
  },
  {
   "cell_type": "code",
   "execution_count": 2,
   "id": "1b5a8b35",
   "metadata": {
    "scrolled": true
   },
   "outputs": [
    {
     "name": "stderr",
     "output_type": "stream",
     "text": [
      "── \u001b[1mAttaching packages\u001b[22m ─────────────────────────────────────── tidyverse 1.3.1 ──\n",
      "\n",
      "\u001b[32m✔\u001b[39m \u001b[34mggplot2\u001b[39m 3.3.5     \u001b[32m✔\u001b[39m \u001b[34mpurrr  \u001b[39m 0.3.4\n",
      "\u001b[32m✔\u001b[39m \u001b[34mtibble \u001b[39m 3.1.4     \u001b[32m✔\u001b[39m \u001b[34mdplyr  \u001b[39m 1.0.7\n",
      "\u001b[32m✔\u001b[39m \u001b[34mtidyr  \u001b[39m 1.1.3     \u001b[32m✔\u001b[39m \u001b[34mstringr\u001b[39m 1.4.0\n",
      "\u001b[32m✔\u001b[39m \u001b[34mreadr  \u001b[39m 2.0.1     \u001b[32m✔\u001b[39m \u001b[34mforcats\u001b[39m 0.5.1\n",
      "\n",
      "── \u001b[1mConflicts\u001b[22m ────────────────────────────────────────── tidyverse_conflicts() ──\n",
      "\u001b[31m✖\u001b[39m \u001b[34mdplyr\u001b[39m::\u001b[32mfilter()\u001b[39m masks \u001b[34mstats\u001b[39m::filter()\n",
      "\u001b[31m✖\u001b[39m \u001b[34mdplyr\u001b[39m::\u001b[32mlag()\u001b[39m    masks \u001b[34mstats\u001b[39m::lag()\n",
      "\n",
      "randomForest 4.6-14\n",
      "\n",
      "Type rfNews() to see new features/changes/bug fixes.\n",
      "\n",
      "\n",
      "Attaching package: ‘randomForest’\n",
      "\n",
      "\n",
      "The following object is masked from ‘package:dplyr’:\n",
      "\n",
      "    combine\n",
      "\n",
      "\n",
      "The following object is masked from ‘package:ggplot2’:\n",
      "\n",
      "    margin\n",
      "\n",
      "\n",
      "Loading required package: lattice\n",
      "\n",
      "\n",
      "Attaching package: ‘caret’\n",
      "\n",
      "\n",
      "The following object is masked from ‘package:purrr’:\n",
      "\n",
      "    lift\n",
      "\n",
      "\n",
      "Loading required package: carData\n",
      "\n",
      "\n",
      "Attaching package: ‘car’\n",
      "\n",
      "\n",
      "The following object is masked from ‘package:dplyr’:\n",
      "\n",
      "    recode\n",
      "\n",
      "\n",
      "The following object is masked from ‘package:purrr’:\n",
      "\n",
      "    some\n",
      "\n",
      "\n",
      "For binary classification, the first factor level is assumed to be the event.\n",
      "Use the argument `event_level = \"second\"` to alter this as needed.\n",
      "\n",
      "\n",
      "Attaching package: ‘yardstick’\n",
      "\n",
      "\n",
      "The following objects are masked from ‘package:caret’:\n",
      "\n",
      "    precision, recall, sensitivity, specificity\n",
      "\n",
      "\n",
      "The following object is masked from ‘package:readr’:\n",
      "\n",
      "    spec\n",
      "\n",
      "\n"
     ]
    }
   ],
   "source": [
    "library(tidyverse)\n",
    "library(randomForest)\n",
    "library(caret)\n",
    "library(car) # VIF\n",
    "library(yardstick)"
   ]
  },
  {
   "cell_type": "markdown",
   "id": "2bd964b3",
   "metadata": {},
   "source": [
    "# Random Forest\n",
    "#### Random Forest is an ensemble of individually trained, deep decision trees, trained on different parts of a randomly sampled training set in order to handle overfitting of individual trees. The random in Ranomd Forest refers to both the stochastic nature of selecting the observations chosen to grow each tree, as well as the random selection of features used to split each node.\n",
    "\n",
    "The algorithm works as follows:\n",
    "1) Each tree is trained on about 2/3 of the total training data, with data drawn at random from the original data **with replacement**. <br>\n",
    "\n",
    "2) Predictior features (m) are selected at random from all the predictor features and the best m split is used to split the node. The default value of m for regression is the total number of all features, divided by 3. This value is held constant as the forest is grown. <br>\n",
    "\n",
    "3) The misclassification rate (or Out-of-Bag (OOB) Error Rate) is calculated for each tree using the remaining 1/3 of the training data. With regression problems, the average OOB prediciton for the entire forest is calculated by taking the row mean of the OOB prediction of trees. <br>\n",
    "# https://www.listendata.com/2014/11/random-forest-with-r.html#Terminologies-related-to-random-forest-algorithm-\n",
    "\n",
    "***Each tree in a Random Forest is fully grown and is not pruned!!"
   ]
  },
  {
   "cell_type": "markdown",
   "id": "d60762ee",
   "metadata": {},
   "source": [
    "## import data"
   ]
  },
  {
   "cell_type": "code",
   "execution_count": 3,
   "id": "32c5214a",
   "metadata": {},
   "outputs": [],
   "source": [
    "ml_data <- read.csv('ml_predict_data.csv')"
   ]
  },
  {
   "cell_type": "code",
   "execution_count": 4,
   "id": "5f64bfc3",
   "metadata": {},
   "outputs": [],
   "source": [
    "# assign countyname col to ml_data idx\n",
    "row.names(ml_data) <- ml_data$X\n",
    "# drop X col\n",
    "drops <- c('X')\n",
    "ml_data <- ml_data[, !(names(ml_data) %in% drops)]"
   ]
  },
  {
   "cell_type": "markdown",
   "id": "f622bc93",
   "metadata": {},
   "source": [
    "## mutlicollinearity\n",
    "Random Forest is affected by mutlicollinearity, which occurs when two or more independent features are highly correlated with one another in a regression model. When this happens, it means that one independent variable can be predicted from another. <br>\n",
    "It's difficult to understand the effect of an independent feature on the dependent or response variable as their effects are entangled. Because the objective is to understand how each **individual** predictor is impacting the target variable, this is a problem! Although multicollinearity may not affect the accuracy of the model, it does blur the interpretability of the model as it becomes more difficult to determine the effects of individual features on the dependent, response or target variable. \n",
    "***The absence of multicollinearity is also an assumption of the Ordinary Least Squares method, which is used to arrive to the parameters of a regression model.\n",
    "\n",
    "There are several causes of multicollinearity, one of which is referred to as the Dummy Variable Trap. This occurs when dummy variables are used to convert categorical features to numerical features."
   ]
  },
  {
   "cell_type": "markdown",
   "id": "94c608c5",
   "metadata": {},
   "source": [
    "### detecting multicollinearity\n",
    "One method used to detect multi-collinearity is the Variance Inflation Factor (VIF) method. Although a corelation matrix can be used to detect multicollinearity, it only reveals bivariate relationships between variables. VIF is therefore preferred as it can show the correlation of a variable with a group of other variables. VIF is prediceted by regressing a variables against every other variables to determine the strength of the correlation between the independent variables of a dataset. The VIF score indicates how well the variable is explained by other independent variables.\n",
    "\n",
    "R^2 value is determined to find out how well an independent variable is described by the other independent variables. A high value of R^2 means that the variable is highly correlated with the other variables. This is captured by the VIF which is denoted below:\n",
    "\n",
    " - VIF=1/(1-R^2)\n",
    "\n",
    "So, the closer the R^2 value to 1, the higher the value of VIF and the higher the multicollinearity with the particular independent variable.\n",
    "\n",
    "VIF starts at 1(when R^2=0, VIF=1 – minimum value for VIF) and has no upper limit.\n",
    "VIF = 1, no correlation between the independent variable and the other variables, i.e., no multicollinearity.\n",
    "VIF exceeding 5 or 10 indicates high multicollinearity between the selected independent variable and other independent variables.\n",
    "Some researchers assume VIF>5 as a serious issue, while others assume VIF>10 as serious."
   ]
  },
  {
   "cell_type": "code",
   "execution_count": 5,
   "id": "6dc58146",
   "metadata": {},
   "outputs": [
    {
     "data": {
      "text/html": [
       "<style>\n",
       ".dl-inline {width: auto; margin:0; padding: 0}\n",
       ".dl-inline>dt, .dl-inline>dd {float: none; width: auto; display: inline-block}\n",
       ".dl-inline>dt::after {content: \":\\0020\"; padding-right: .5ex}\n",
       ".dl-inline>dt:not(:first-of-type) {padding-left: .5ex}\n",
       "</style><dl class=dl-inline><dt>new_case_count_sum</dt><dd>1.5027980754254</dd><dt>religion</dt><dd>2.59904358707172</dd><dt>civic</dt><dd>2.38705617763587</dd><dt>charitable</dt><dd>2.48484542774253</dd><dt>fraternal</dt><dd>1.46043282726416</dd><dt>union</dt><dd>1.59712717329146</dd><dt>voteage</dt><dd>4.0142784653242</dd><dt>local</dt><dd>1.39929905499367</dd><dt>state</dt><dd>1.40741483719557</dd><dt>federal</dt><dd>1.34656415320947</dd><dt>politicalacts</dt><dd>1.41622936487354</dd><dt>ethnic</dt><dd>2.24274269054873</dd><dt>ethnichpn</dt><dd>3.15208177569841</dd><dt>education</dt><dd>1.56824234489753</dd><dt>incomeequal</dt><dd>1.72273902976711</dd><dt>employ</dt><dd>1.86925777132955</dd><dt>genderincome</dt><dd>1.18699646364987</dd><dt>language</dt><dd>4.54589490330674</dd><dt>commu</dt><dd>1.38527946737982</dd><dt>nonelder</dt><dd>1.97476300929769</dd></dl>\n"
      ],
      "text/latex": [
       "\\begin{description*}\n",
       "\\item[new\\textbackslash{}\\_case\\textbackslash{}\\_count\\textbackslash{}\\_sum] 1.5027980754254\n",
       "\\item[religion] 2.59904358707172\n",
       "\\item[civic] 2.38705617763587\n",
       "\\item[charitable] 2.48484542774253\n",
       "\\item[fraternal] 1.46043282726416\n",
       "\\item[union] 1.59712717329146\n",
       "\\item[voteage] 4.0142784653242\n",
       "\\item[local] 1.39929905499367\n",
       "\\item[state] 1.40741483719557\n",
       "\\item[federal] 1.34656415320947\n",
       "\\item[politicalacts] 1.41622936487354\n",
       "\\item[ethnic] 2.24274269054873\n",
       "\\item[ethnichpn] 3.15208177569841\n",
       "\\item[education] 1.56824234489753\n",
       "\\item[incomeequal] 1.72273902976711\n",
       "\\item[employ] 1.86925777132955\n",
       "\\item[genderincome] 1.18699646364987\n",
       "\\item[language] 4.54589490330674\n",
       "\\item[commu] 1.38527946737982\n",
       "\\item[nonelder] 1.97476300929769\n",
       "\\end{description*}\n"
      ],
      "text/markdown": [
       "new_case_count_sum\n",
       ":   1.5027980754254religion\n",
       ":   2.59904358707172civic\n",
       ":   2.38705617763587charitable\n",
       ":   2.48484542774253fraternal\n",
       ":   1.46043282726416union\n",
       ":   1.59712717329146voteage\n",
       ":   4.0142784653242local\n",
       ":   1.39929905499367state\n",
       ":   1.40741483719557federal\n",
       ":   1.34656415320947politicalacts\n",
       ":   1.41622936487354ethnic\n",
       ":   2.24274269054873ethnichpn\n",
       ":   3.15208177569841education\n",
       ":   1.56824234489753incomeequal\n",
       ":   1.72273902976711employ\n",
       ":   1.86925777132955genderincome\n",
       ":   1.18699646364987language\n",
       ":   4.54589490330674commu\n",
       ":   1.38527946737982nonelder\n",
       ":   1.97476300929769\n",
       "\n"
      ],
      "text/plain": [
       "new_case_count_sum           religion              civic         charitable \n",
       "          1.502798           2.599044           2.387056           2.484845 \n",
       "         fraternal              union            voteage              local \n",
       "          1.460433           1.597127           4.014278           1.399299 \n",
       "             state            federal      politicalacts             ethnic \n",
       "          1.407415           1.346564           1.416229           2.242743 \n",
       "         ethnichpn          education        incomeequal             employ \n",
       "          3.152082           1.568242           1.722739           1.869258 \n",
       "      genderincome           language              commu           nonelder \n",
       "          1.186996           4.545895           1.385279           1.974763 "
      ]
     },
     "metadata": {},
     "output_type": "display_data"
    }
   ],
   "source": [
    "lm_model <- lm(avg_perc_change ~., data = ml_data)\n",
    "vif(lm_model)"
   ]
  },
  {
   "cell_type": "markdown",
   "id": "5a31dc04",
   "metadata": {},
   "source": [
    "As each variable returns a VIF score less than 5, none indicate any significant multicollinearity or entanglement with the dataset's remaining independent variables."
   ]
  },
  {
   "cell_type": "markdown",
   "id": "ce324634",
   "metadata": {},
   "source": [
    "## split to test and train"
   ]
  },
  {
   "cell_type": "code",
   "execution_count": 6,
   "id": "6bf7f583",
   "metadata": {},
   "outputs": [],
   "source": [
    "# function to scale X\n",
    "normalize <- function(x) {\n",
    "    return((x - min(x))/(max(x) - min(x)))\n",
    "}"
   ]
  },
  {
   "cell_type": "code",
   "execution_count": 7,
   "id": "780a3336",
   "metadata": {},
   "outputs": [],
   "source": [
    "# The createDataPartition function is used to create training and test sets\n",
    "trainIndex <- createDataPartition(ml_data$avg_perc_change, \n",
    "                                  p = .8, \n",
    "                                  list = FALSE, \n",
    "                                  times = 1)\n",
    "\n",
    "TRAIN <- ml_data[trainIndex, ]\n",
    "TEST <- ml_data[-trainIndex, ]"
   ]
  },
  {
   "cell_type": "markdown",
   "id": "8f3272a2",
   "metadata": {},
   "source": [
    "## train benchmark model"
   ]
  },
  {
   "cell_type": "code",
   "execution_count": null,
   "id": "27031083",
   "metadata": {},
   "outputs": [],
   "source": [
    "set.seed(1) # 0.1484286\n",
    "rf_model <- randomForest(avg_perc_change_emp~., data=TRAIN, ntree=500, mtry=3) \n",
    "print(rf_model)"
   ]
  },
  {
   "cell_type": "code",
   "execution_count": null,
   "id": "ca1de0ae",
   "metadata": {},
   "outputs": [],
   "source": [
    "print(\"The default model is trained with 3 random variables used in each tree and a total of 500 trees used in the forest, to return a RMSE of: \") \n",
    "sqrt(0.02609141)"
   ]
  },
  {
   "cell_type": "markdown",
   "id": "f2a5260f",
   "metadata": {},
   "source": [
    "### scale data"
   ]
  },
  {
   "cell_type": "code",
   "execution_count": 8,
   "id": "2426ebcd",
   "metadata": {},
   "outputs": [],
   "source": [
    "# apply the normalize function to normalize the data\n",
    "train_x_scaled = data.frame(lapply(TRAIN[, 2:21], normalize))\n",
    "train_y = TRAIN[,1]\n",
    "\n",
    "# apply the normalize function to normalize the data\n",
    "test_x_scaled = data.frame(lapply(TEST[, 2:21], normalize))\n",
    "test_y = TEST[,1]"
   ]
  },
  {
   "cell_type": "code",
   "execution_count": 43,
   "id": "15ae6102",
   "metadata": {},
   "outputs": [],
   "source": [
    "TRAIN <- cbind(train_x_scaled, train_y)\n",
    "names(TRAIN)[names(TRAIN) == 'train_y'] <- 'avg_perc_change_emp'\n",
    "TEST <- cbind(test_x_scaled, test_y)\n",
    "names(TEST)[names(TEST) == 'test_y'] <- 'avg_perc_change_emp'"
   ]
  },
  {
   "cell_type": "markdown",
   "id": "a79418a4",
   "metadata": {},
   "source": [
    "## train scaled model"
   ]
  },
  {
   "cell_type": "code",
   "execution_count": 10,
   "id": "b0d12a95",
   "metadata": {},
   "outputs": [
    {
     "name": "stdout",
     "output_type": "stream",
     "text": [
      "\n",
      "Call:\n",
      " randomForest(formula = test_y ~ ., data = cbind(test_x_scaled,      test_y), ntree = 500, mtry = 3) \n",
      "               Type of random forest: regression\n",
      "                     Number of trees: 500\n",
      "No. of variables tried at each split: 3\n",
      "\n",
      "          Mean of squared residuals: 0.02545785\n",
      "                    % Var explained: 4.08\n"
     ]
    }
   ],
   "source": [
    "set.seed(1)\n",
    "rf_model_scaled <- randomForest(avg_perc_change_emp ~., data=TRAIN, ntree=500, mtry=3) \n",
    "print(rf_model_scaled)"
   ]
  },
  {
   "cell_type": "code",
   "execution_count": null,
   "id": "314a6806",
   "metadata": {},
   "outputs": [],
   "source": [
    "print(\"The default model is trained with 3 random variables used in each tree and a total of 500 trees used in the forest, to return a RMSE of: \") \n",
    "sqrt(0.02609141)"
   ]
  },
  {
   "cell_type": "markdown",
   "id": "2b35f30c",
   "metadata": {},
   "source": [
    "## make predictions"
   ]
  },
  {
   "cell_type": "code",
   "execution_count": 12,
   "id": "73b945c7",
   "metadata": {},
   "outputs": [
    {
     "name": "stdout",
     "output_type": "stream",
     "text": [
      "Rows: 236\n",
      "Columns: 21\n",
      "$ new_case_count_sum \u001b[3m\u001b[90m<dbl>\u001b[39m\u001b[23m 0.082504899, 0.023256255, 0.020907378, 0.007165261,…\n",
      "$ religion           \u001b[3m\u001b[90m<dbl>\u001b[39m\u001b[23m 0.07710947, 0.54845766, 0.57243383, 0.59023718, 0.4…\n",
      "$ civic              \u001b[3m\u001b[90m<dbl>\u001b[39m\u001b[23m 1.0000000, 0.8750000, 0.6875000, 0.4999999, 0.31250…\n",
      "$ charitable         \u001b[3m\u001b[90m<dbl>\u001b[39m\u001b[23m 0.7453581, 0.3660478, 0.4456233, 0.3209549, 0.26790…\n",
      "$ fraternal          \u001b[3m\u001b[90m<dbl>\u001b[39m\u001b[23m 0.4951923, 0.5480770, 0.5769231, 0.3894231, 0.37019…\n",
      "$ union              \u001b[3m\u001b[90m<dbl>\u001b[39m\u001b[23m 0.6577947, 0.2395437, 0.3840304, 0.3650190, 0.24714…\n",
      "$ voteage            \u001b[3m\u001b[90m<dbl>\u001b[39m\u001b[23m 0.61905010, 0.74457215, 0.73182036, 0.68536236, 0.8…\n",
      "$ local              \u001b[3m\u001b[90m<dbl>\u001b[39m\u001b[23m 0.0000000, 0.2667884, 0.5089951, 0.3498455, 0.50864…\n",
      "$ state              \u001b[3m\u001b[90m<dbl>\u001b[39m\u001b[23m 0.25756493, 0.19547525, 0.16416119, 0.15983650, 0.6…\n",
      "$ federal            \u001b[3m\u001b[90m<dbl>\u001b[39m\u001b[23m 0.072275977, 0.314852345, 0.088699661, 0.182773127,…\n",
      "$ politicalacts      \u001b[3m\u001b[90m<dbl>\u001b[39m\u001b[23m 0.58747704, 0.27808471, 0.25598527, 0.07550646, 0.1…\n",
      "$ ethnic             \u001b[3m\u001b[90m<dbl>\u001b[39m\u001b[23m 0.30938584, 0.44079687, 0.57148383, 0.21987528, 0.4…\n",
      "$ ethnichpn          \u001b[3m\u001b[90m<dbl>\u001b[39m\u001b[23m 0.705793661, 0.887724720, 0.886053940, 0.875602369,…\n",
      "$ education          \u001b[3m\u001b[90m<dbl>\u001b[39m\u001b[23m 0.7292817, 0.7265193, 0.6325966, 0.6312155, 0.56077…\n",
      "$ incomeequal        \u001b[3m\u001b[90m<dbl>\u001b[39m\u001b[23m 0.5102041, 0.4489796, 0.4489796, 0.5714286, 0.61734…\n",
      "$ employ             \u001b[3m\u001b[90m<dbl>\u001b[39m\u001b[23m 0.7252964, 0.4011858, 0.4071147, 0.4169961, 0.29841…\n",
      "$ genderincome       \u001b[3m\u001b[90m<dbl>\u001b[39m\u001b[23m 0.214179038, 0.784727275, 0.202132438, 0.332996942,…\n",
      "$ language           \u001b[3m\u001b[90m<dbl>\u001b[39m\u001b[23m 0.8177121, 0.9533504, 0.9740598, 0.9644140, 0.97339…\n",
      "$ commu              \u001b[3m\u001b[90m<dbl>\u001b[39m\u001b[23m 0.9199162, 0.8525577, 0.8185989, 0.8514194, 0.81429…\n",
      "$ nonelder           \u001b[3m\u001b[90m<dbl>\u001b[39m\u001b[23m 0.9952221, 0.9741578, 0.9673883, 0.9438257, 0.89557…\n",
      "$ test_y             \u001b[3m\u001b[90m<dbl>\u001b[39m\u001b[23m -0.106942045, -0.011981591, -0.179761364, -0.083586…\n"
     ]
    }
   ],
   "source": [
    "y_hat <- predict(rf_model_scaled, TEST)\n",
    "\n",
    "#predict(diab_pop.no_na_vals.train.rf_model, diab_pop.no_na_vals.test, type =\"prob\")\n",
    "\n",
    "test.rf_scored <- as_tibble(TEST)\n",
    "\n",
    "glimpse(test.rf_scored)"
   ]
  },
  {
   "cell_type": "code",
   "execution_count": 13,
   "id": "99c70727",
   "metadata": {},
   "outputs": [
    {
     "data": {
      "text/html": [
       "<table class=\"dataframe\">\n",
       "<caption>A tibble: 1 × 3</caption>\n",
       "<thead>\n",
       "\t<tr><th scope=col>.metric</th><th scope=col>.estimator</th><th scope=col>.estimate</th></tr>\n",
       "\t<tr><th scope=col>&lt;chr&gt;</th><th scope=col>&lt;chr&gt;</th><th scope=col>&lt;dbl&gt;</th></tr>\n",
       "</thead>\n",
       "<tbody>\n",
       "\t<tr><td>rmse</td><td>standard</td><td>0.07003797</td></tr>\n",
       "</tbody>\n",
       "</table>\n"
      ],
      "text/latex": [
       "A tibble: 1 × 3\n",
       "\\begin{tabular}{lll}\n",
       " .metric & .estimator & .estimate\\\\\n",
       " <chr> & <chr> & <dbl>\\\\\n",
       "\\hline\n",
       "\t rmse & standard & 0.07003797\\\\\n",
       "\\end{tabular}\n"
      ],
      "text/markdown": [
       "\n",
       "A tibble: 1 × 3\n",
       "\n",
       "| .metric &lt;chr&gt; | .estimator &lt;chr&gt; | .estimate &lt;dbl&gt; |\n",
       "|---|---|---|\n",
       "| rmse | standard | 0.07003797 |\n",
       "\n"
      ],
      "text/plain": [
       "  .metric .estimator .estimate \n",
       "1 rmse    standard   0.07003797"
      ]
     },
     "metadata": {},
     "output_type": "display_data"
    }
   ],
   "source": [
    "RMSE_rf_TEST <- yardstick::rmse(test.rf_scored, truth=avg_perc_change_emp, estimate=y_hat)\n",
    "\n",
    "RMSE_rf_TEST"
   ]
  },
  {
   "cell_type": "code",
   "execution_count": 15,
   "id": "e19b9b0c",
   "metadata": {},
   "outputs": [
    {
     "data": {
      "image/png": "[encoded data removed]",
      "text/plain": [
       "plot without title"
      ]
     },
     "metadata": {
      "image/png": {
       "height": 420,
       "width": 420
      }
     },
     "output_type": "display_data"
    }
   ],
   "source": [
    "plot(TEST$avg_perc_change_emp, y_hat)"
   ]
  },
  {
   "cell_type": "markdown",
   "id": "d77d1a78",
   "metadata": {},
   "source": [
    "## hyperparameter tuning with caret package\n",
    "There are two hyperparameters that are important to tune in the random forest algorithm:\n",
    " - Number of trees used in the forest (ntree)\n",
    " - Number of random variables used in each tree (mtry)"
   ]
  },
  {
   "cell_type": "code",
   "execution_count": 19,
   "id": "7da52f4c",
   "metadata": {},
   "outputs": [],
   "source": [
    "# Define the control\n",
    "trControl <- trainControl(method = \"cv\",\n",
    "    number = 5, # evaluate the model with a grid search of 5 folds\n",
    "    search = \"grid\")"
   ]
  },
  {
   "cell_type": "markdown",
   "id": "49c630bc",
   "metadata": {},
   "source": [
    "### search for best mtry value\n",
    "The number of random variables to use in each tree"
   ]
  },
  {
   "cell_type": "code",
   "execution_count": 22,
   "id": "e46d1524",
   "metadata": {},
   "outputs": [
    {
     "name": "stderr",
     "output_type": "stream",
     "text": [
      "Warning message in train.default(x, y, weights = w, ...):\n",
      "“The metric \"MSE\" was not in the result set. RMSE will be used instead.”\n"
     ]
    },
    {
     "name": "stdout",
     "output_type": "stream",
     "text": [
      "Random Forest \n",
      "\n",
      "948 samples\n",
      " 20 predictor\n",
      "\n",
      "No pre-processing\n",
      "Resampling: Cross-Validated (5 fold) \n",
      "Summary of sample sizes: 757, 759, 760, 759, 757 \n",
      "Resampling results across tuning parameters:\n",
      "\n",
      "  mtry  RMSE       Rsquared    MAE      \n",
      "   1    0.1595689  0.10609117  0.1156203\n",
      "   2    0.1594014  0.10627579  0.1157232\n",
      "   3    0.1600306  0.10107027  0.1161297\n",
      "   4    0.1597603  0.10563451  0.1161826\n",
      "   5    0.1597736  0.10600724  0.1163721\n",
      "   6    0.1598796  0.10643044  0.1165112\n",
      "   7    0.1602285  0.10425654  0.1168370\n",
      "   8    0.1605112  0.10198994  0.1168194\n",
      "   9    0.1603661  0.10490164  0.1168598\n",
      "  10    0.1609630  0.09885079  0.1172636\n",
      "  11    0.1619987  0.09169098  0.1181966\n",
      "  12    0.1610142  0.09981407  0.1173419\n",
      "  13    0.1616562  0.09515805  0.1177489\n",
      "  14    0.1613986  0.09729616  0.1173203\n",
      "  15    0.1620292  0.09378129  0.1178061\n",
      "  16    0.1619614  0.09446822  0.1178046\n",
      "  17    0.1622178  0.09295865  0.1180209\n",
      "  18    0.1623472  0.09259366  0.1181389\n",
      "  19    0.1626258  0.08976429  0.1182875\n",
      "  20    0.1628016  0.09070884  0.1186931\n",
      "\n",
      "RMSE was used to select the optimal model using the smallest value.\n",
      "The final value used for the model was mtry = 2.\n"
     ]
    }
   ],
   "source": [
    "tuneGrid <- expand.grid(.mtry = c(1: 20)) # test from 1 to 20 variables used in each tree\n",
    "rf_mtry <- train(avg_perc_change_emp ~., data=TRAIN,\n",
    "    method = \"rf\",\n",
    "    metric = \"RMSE\",\n",
    "    tuneGrid = tuneGrid,\n",
    "    trControl = trControl,\n",
    "    importance = TRUE)\n",
    "print(rf_mtry) # best value stored in rf_mtry$bestTune$mtry"
   ]
  },
  {
   "cell_type": "code",
   "execution_count": 38,
   "id": "3be042da",
   "metadata": {},
   "outputs": [
    {
     "data": {
      "text/html": [
       "0.162801635237842"
      ],
      "text/latex": [
       "0.162801635237842"
      ],
      "text/markdown": [
       "0.162801635237842"
      ],
      "text/plain": [
       "[1] 0.1628016"
      ]
     },
     "metadata": {},
     "output_type": "display_data"
    }
   ],
   "source": [
    "max(rf_mtry$results$RMSE)"
   ]
  },
  {
   "cell_type": "code",
   "execution_count": 39,
   "id": "4abfd4c7",
   "metadata": {},
   "outputs": [],
   "source": [
    "best_mtry <- rf_mtry$bestTune$mtry"
   ]
  },
  {
   "cell_type": "markdown",
   "id": "53dbcb5c",
   "metadata": {},
   "source": [
    "### search for best maxnodes value\n",
    "the maximum amount of terminal nodes in the forest"
   ]
  },
  {
   "cell_type": "code",
   "execution_count": 46,
   "id": "d3996168",
   "metadata": {},
   "outputs": [
    {
     "data": {
      "text/plain": [
       "\n",
       "Call:\n",
       "summary.resamples(object = results_mtry)\n",
       "\n",
       "Models: 25, 26, 27, 28, 29, 30, 31, 32, 33, 34, 35, 36, 37, 38, 39, 40 \n",
       "Number of resamples: 5 \n",
       "\n",
       "MAE \n",
       "        Min.   1st Qu.    Median      Mean   3rd Qu.      Max. NA's\n",
       "25 0.1076430 0.1117244 0.1157559 0.1157195 0.1216876 0.1217866    0\n",
       "26 0.1077262 0.1120333 0.1157812 0.1160620 0.1218873 0.1228821    0\n",
       "27 0.1075471 0.1122339 0.1159929 0.1159537 0.1213414 0.1226531    0\n",
       "28 0.1080270 0.1112511 0.1161407 0.1158125 0.1214106 0.1222333    0\n",
       "29 0.1073100 0.1110099 0.1152036 0.1155831 0.1219065 0.1224853    0\n",
       "30 0.1078816 0.1110484 0.1150065 0.1154856 0.1211130 0.1223787    0\n",
       "31 0.1074952 0.1117707 0.1159591 0.1158815 0.1217586 0.1224236    0\n",
       "32 0.1074691 0.1114047 0.1155176 0.1154443 0.1210692 0.1217609    0\n",
       "33 0.1072104 0.1121365 0.1159240 0.1156595 0.1210163 0.1220101    0\n",
       "34 0.1069677 0.1113417 0.1160229 0.1155360 0.1210190 0.1223287    0\n",
       "35 0.1075322 0.1113090 0.1154114 0.1155793 0.1213978 0.1222463    0\n",
       "36 0.1062515 0.1113057 0.1154758 0.1151004 0.1208317 0.1216374    0\n",
       "37 0.1068461 0.1113987 0.1154068 0.1152716 0.1209814 0.1217249    0\n",
       "38 0.1067337 0.1116165 0.1153426 0.1153770 0.1212827 0.1219095    0\n",
       "39 0.1059569 0.1110345 0.1152444 0.1149552 0.1211623 0.1213777    0\n",
       "40 0.1065434 0.1107974 0.1153202 0.1152935 0.1214051 0.1224012    0\n",
       "\n",
       "RMSE \n",
       "        Min.   1st Qu.    Median      Mean   3rd Qu.      Max. NA's\n",
       "25 0.1473724 0.1524746 0.1601239 0.1592061 0.1642315 0.1718280    0\n",
       "26 0.1480783 0.1522677 0.1598969 0.1596218 0.1656385 0.1722278    0\n",
       "27 0.1482168 0.1525404 0.1601413 0.1596622 0.1651372 0.1722754    0\n",
       "28 0.1469278 0.1525379 0.1604756 0.1594064 0.1649765 0.1721144    0\n",
       "29 0.1473075 0.1523727 0.1593039 0.1592720 0.1650828 0.1722935    0\n",
       "30 0.1467940 0.1528791 0.1595253 0.1591429 0.1652525 0.1712637    0\n",
       "31 0.1475116 0.1523808 0.1596771 0.1593294 0.1646557 0.1724218    0\n",
       "32 0.1474677 0.1524103 0.1599379 0.1593092 0.1646930 0.1720369    0\n",
       "33 0.1486720 0.1524178 0.1601937 0.1596179 0.1650238 0.1717824    0\n",
       "34 0.1471265 0.1524403 0.1603648 0.1592535 0.1651042 0.1712320    0\n",
       "35 0.1475353 0.1522601 0.1593382 0.1591272 0.1643554 0.1721469    0\n",
       "36 0.1474873 0.1514461 0.1597949 0.1588229 0.1645597 0.1708264    0\n",
       "37 0.1472077 0.1521158 0.1594596 0.1589168 0.1641874 0.1716135    0\n",
       "38 0.1479409 0.1510802 0.1593805 0.1587984 0.1639591 0.1716315    0\n",
       "39 0.1474468 0.1513198 0.1591240 0.1589208 0.1645062 0.1722073    0\n",
       "40 0.1472791 0.1520882 0.1596940 0.1592526 0.1655724 0.1716294    0\n",
       "\n",
       "Rsquared \n",
       "         Min.    1st Qu.    Median      Mean   3rd Qu.      Max. NA's\n",
       "25 0.08389019 0.09073403 0.1160451 0.1110150 0.1290491 0.1353564    0\n",
       "26 0.06790755 0.09326520 0.1172607 0.1048026 0.1209983 0.1245814    0\n",
       "27 0.07340317 0.09044129 0.1143344 0.1047321 0.1218193 0.1236623    0\n",
       "28 0.07541456 0.08650476 0.1149007 0.1087929 0.1264943 0.1406503    0\n",
       "29 0.07394959 0.10053223 0.1146109 0.1088469 0.1195456 0.1355962    0\n",
       "30 0.07213268 0.09815358 0.1076565 0.1113264 0.1362051 0.1424843    0\n",
       "31 0.07867780 0.09555350 0.1162309 0.1081765 0.1180299 0.1323905    0\n",
       "32 0.07852647 0.09259366 0.1150128 0.1087773 0.1259223 0.1318313    0\n",
       "33 0.07465873 0.08958883 0.1136547 0.1043888 0.1159042 0.1281378    0\n",
       "34 0.07383226 0.08775257 0.1139440 0.1095906 0.1352815 0.1371427    0\n",
       "35 0.08204900 0.09938262 0.1158678 0.1095771 0.1199336 0.1306524    0\n",
       "36 0.07992713 0.09411212 0.1281880 0.1146253 0.1313470 0.1395521    0\n",
       "37 0.08422953 0.09809639 0.1187955 0.1131312 0.1287164 0.1358182    0\n",
       "38 0.08635989 0.09922131 0.1239680 0.1139649 0.1272632 0.1330119    0\n",
       "39 0.08042429 0.10183534 0.1187887 0.1125226 0.1295363 0.1320282    0\n",
       "40 0.06920228 0.09537479 0.1178811 0.1081411 0.1257126 0.1325346    0\n"
      ]
     },
     "metadata": {},
     "output_type": "display_data"
    }
   ],
   "source": [
    "store_maxnode <- list()\n",
    "tuneGrid <- expand.grid(.mtry = best_mtry)\n",
    "\n",
    "for (maxnodes in c(25: 40)) {\n",
    "    set.seed(1)\n",
    "    rf_maxnode <- train(avg_perc_change_emp ~., \n",
    "                        data=TRAIN,\n",
    "                        method = \"rf\",\n",
    "                        metric = \"RMSE\",\n",
    "                        tuneGrid = tuneGrid,\n",
    "                        trControl = trControl,\n",
    "                        importance = TRUE,\n",
    "                        maxnodes = maxnodes,\n",
    "                        ntree = 500)\n",
    "    current_iteration <- toString(maxnodes)\n",
    "    store_maxnode[[current_iteration]] <- rf_maxnode\n",
    "}\n",
    "results_mtry <- resamples(store_maxnode)\n",
    "summary(results_mtry)"
   ]
  },
  {
   "cell_type": "markdown",
   "id": "a0d8a791",
   "metadata": {},
   "source": [
    "The average minimum RMSE is 0.1587984 and occurs when maxnodes is set to 38."
   ]
  },
  {
   "cell_type": "markdown",
   "id": "95ecd00b",
   "metadata": {},
   "source": [
    "### search for best ntrees value\n",
    "the number of trees used in the forest"
   ]
  },
  {
   "cell_type": "code",
   "execution_count": 47,
   "id": "35a083d9",
   "metadata": {},
   "outputs": [
    {
     "data": {
      "text/plain": [
       "\n",
       "Call:\n",
       "summary.resamples(object = results_tree)\n",
       "\n",
       "Models: 250, 300, 350, 400, 450, 500, 550, 600, 800, 1000, 2000 \n",
       "Number of resamples: 5 \n",
       "\n",
       "MAE \n",
       "          Min.   1st Qu.    Median      Mean   3rd Qu.      Max. NA's\n",
       "250  0.1069993 0.1123598 0.1149255 0.1154555 0.1208408 0.1221518    0\n",
       "300  0.1071023 0.1120301 0.1151453 0.1154508 0.1209097 0.1220667    0\n",
       "350  0.1069207 0.1120719 0.1155434 0.1155103 0.1207637 0.1222519    0\n",
       "400  0.1068161 0.1118766 0.1154967 0.1154375 0.1209407 0.1220573    0\n",
       "450  0.1067761 0.1117807 0.1155240 0.1154453 0.1211551 0.1219908    0\n",
       "500  0.1067337 0.1116165 0.1153426 0.1153770 0.1212827 0.1219095    0\n",
       "550  0.1067367 0.1116918 0.1152127 0.1153347 0.1211280 0.1219040    0\n",
       "600  0.1066194 0.1115741 0.1153353 0.1152927 0.1210620 0.1218724    0\n",
       "800  0.1065249 0.1117105 0.1151464 0.1152362 0.1210301 0.1217690    0\n",
       "1000 0.1064954 0.1116822 0.1151994 0.1152826 0.1212070 0.1218289    0\n",
       "2000 0.1065697 0.1114748 0.1150763 0.1152645 0.1212677 0.1219340    0\n",
       "\n",
       "RMSE \n",
       "          Min.   1st Qu.    Median      Mean   3rd Qu.      Max. NA's\n",
       "250  0.1485958 0.1514966 0.1591054 0.1589491 0.1644517 0.1710961    0\n",
       "300  0.1480542 0.1514650 0.1593316 0.1587709 0.1641127 0.1708911    0\n",
       "350  0.1482126 0.1512562 0.1596551 0.1588502 0.1643529 0.1707744    0\n",
       "400  0.1481529 0.1511276 0.1596257 0.1588646 0.1641936 0.1712233    0\n",
       "450  0.1482188 0.1511337 0.1594825 0.1588689 0.1640384 0.1714713    0\n",
       "500  0.1479409 0.1510802 0.1593805 0.1587984 0.1639591 0.1716315    0\n",
       "550  0.1479659 0.1511029 0.1592667 0.1587665 0.1639662 0.1715308    0\n",
       "600  0.1477858 0.1511062 0.1593874 0.1587439 0.1639707 0.1714694    0\n",
       "800  0.1479231 0.1515825 0.1592263 0.1588798 0.1642008 0.1714661    0\n",
       "1000 0.1480194 0.1513470 0.1594474 0.1589704 0.1643453 0.1716930    0\n",
       "2000 0.1476499 0.1514076 0.1592994 0.1588978 0.1644566 0.1716755    0\n",
       "\n",
       "Rsquared \n",
       "           Min.    1st Qu.    Median      Mean   3rd Qu.      Max. NA's\n",
       "250  0.08115587 0.10331246 0.1142945 0.1125879 0.1269833 0.1371932    0\n",
       "300  0.08476484 0.10039171 0.1217954 0.1148215 0.1278590 0.1392966    0\n",
       "350  0.08210775 0.09616947 0.1197968 0.1139089 0.1307107 0.1407597    0\n",
       "400  0.08379649 0.09647242 0.1205187 0.1133825 0.1324240 0.1337008    0\n",
       "450  0.08546483 0.09803232 0.1199276 0.1131178 0.1296495 0.1325150    0\n",
       "500  0.08635989 0.09922131 0.1239680 0.1139649 0.1272632 0.1330119    0\n",
       "550  0.08629171 0.10065326 0.1239605 0.1144386 0.1286766 0.1326110    0\n",
       "600  0.08626176 0.09914597 0.1267036 0.1147570 0.1293756 0.1322980    0\n",
       "800  0.08376217 0.10104616 0.1243411 0.1129749 0.1256735 0.1300518    0\n",
       "1000 0.08215583 0.09834640 0.1229980 0.1119482 0.1265753 0.1296655    0\n",
       "2000 0.08090718 0.10016527 0.1266925 0.1131216 0.1283754 0.1294674    0\n"
      ]
     },
     "metadata": {},
     "output_type": "display_data"
    }
   ],
   "source": [
    "store_maxtrees <- list()\n",
    "for (ntree in c(250, 300, 350, 400, 450, 500, 550, 600, 800, 1000, 2000)) {\n",
    "    set.seed(1)\n",
    "    rf_maxtrees <- train(avg_perc_change_emp ~., \n",
    "                         data=TRAIN,\n",
    "                         method = \"rf\",\n",
    "                         metric = \"RMSE\",\n",
    "                         tuneGrid = tuneGrid,\n",
    "                         trControl = trControl,\n",
    "                         importance = TRUE,\n",
    "                         maxnodes = 38,\n",
    "                         ntree = ntree)\n",
    "    key <- toString(ntree)\n",
    "    store_maxtrees[[key]] <- rf_maxtrees\n",
    "}\n",
    "results_tree <- resamples(store_maxtrees)\n",
    "summary(results_tree)"
   ]
  },
  {
   "cell_type": "code",
   "execution_count": 59,
   "id": "bbd8777b",
   "metadata": {},
   "outputs": [],
   "source": [
    "final_fit_rf <- randomForest(avg_perc_change_emp ~., \n",
    "                      data = TRAIN,\n",
    "                      mtry = 2,\n",
    "                      ntree = 600,\n",
    "                      maxnodes = 38)"
   ]
  },
  {
   "cell_type": "code",
   "execution_count": 60,
   "id": "fb8757f4",
   "metadata": {},
   "outputs": [],
   "source": [
    "prediction <- predict(final_fit_rf, TEST)"
   ]
  },
  {
   "cell_type": "markdown",
   "id": "64072776",
   "metadata": {},
   "source": [
    "The overall forest error rate depends on:\n",
    "\n",
    "1) the correlation between any two trees in the forest.\n",
    "***Increasing the correlation increases the forest error rate.\n",
    "\n",
    "2) the strength of each individual tree in the forest. \n",
    "***A tree with a low error rate is a strong classifier. Increasing the strength of the individual trees decreases the forest error rate. <br>\n",
    "\n",
    "**Reducing** the number of random variables used in each tree (mtry) reduces both the correlation and the strength. \n",
    "**Increasing** mtry increases both. \n",
    "Somewhere in between is an **optimal** mtry value, which can be found using the OOB error rate."
   ]
  },
  {
   "cell_type": "code",
   "execution_count": 61,
   "id": "2f560d30",
   "metadata": {},
   "outputs": [
    {
     "data": {
      "text/html": [
       "<table class=\"dataframe\">\n",
       "<caption>A tibble: 1 × 3</caption>\n",
       "<thead>\n",
       "\t<tr><th scope=col>.metric</th><th scope=col>.estimator</th><th scope=col>.estimate</th></tr>\n",
       "\t<tr><th scope=col>&lt;chr&gt;</th><th scope=col>&lt;chr&gt;</th><th scope=col>&lt;dbl&gt;</th></tr>\n",
       "</thead>\n",
       "<tbody>\n",
       "\t<tr><td>rmse</td><td>standard</td><td>0.07003797</td></tr>\n",
       "</tbody>\n",
       "</table>\n"
      ],
      "text/latex": [
       "A tibble: 1 × 3\n",
       "\\begin{tabular}{lll}\n",
       " .metric & .estimator & .estimate\\\\\n",
       " <chr> & <chr> & <dbl>\\\\\n",
       "\\hline\n",
       "\t rmse & standard & 0.07003797\\\\\n",
       "\\end{tabular}\n"
      ],
      "text/markdown": [
       "\n",
       "A tibble: 1 × 3\n",
       "\n",
       "| .metric &lt;chr&gt; | .estimator &lt;chr&gt; | .estimate &lt;dbl&gt; |\n",
       "|---|---|---|\n",
       "| rmse | standard | 0.07003797 |\n",
       "\n"
      ],
      "text/plain": [
       "  .metric .estimator .estimate \n",
       "1 rmse    standard   0.07003797"
      ]
     },
     "metadata": {},
     "output_type": "display_data"
    }
   ],
   "source": [
    "y_hat <- predict(rf_model_scaled, TEST)\n",
    "\n",
    "#predict(diab_pop.no_na_vals.train.rf_model, diab_pop.no_na_vals.test, type =\"prob\")\n",
    "\n",
    "test.rf_scored <- as_tibble(TEST)\n",
    "RMSE_rf_TEST <- yardstick::rmse(test.rf_scored, truth=avg_perc_change_emp, estimate=y_hat)\n",
    "\n",
    "RMSE_rf_TEST"
   ]
  },
  {
   "cell_type": "markdown",
   "id": "4bba7285",
   "metadata": {},
   "source": [
    "# Feature Importance Plot"
   ]
  },
  {
   "cell_type": "code",
   "execution_count": 62,
   "id": "67e8170a",
   "metadata": {},
   "outputs": [
    {
     "data": {
      "image/png": "[encoded data removed]",
      "text/plain": [
       "Plot with title “final_fit_rf”"
      ]
     },
     "metadata": {
      "image/png": {
       "height": 420,
       "width": 420
      }
     },
     "output_type": "display_data"
    }
   ],
   "source": [
    "varImpPlot(final_fit_rf)"
   ]
  },
  {
   "cell_type": "markdown",
   "id": "cfb5de2a",
   "metadata": {},
   "source": [
    "# naive_roc_auc_score"
   ]
  },
  {
   "cell_type": "code",
   "execution_count": 63,
   "id": "446cd59e",
   "metadata": {},
   "outputs": [],
   "source": [
    "naive_roc_auc_score <- function(y_true, y_pred) {\n",
    "    num_same_sign <- 0\n",
    "    num_pairs <- 0 \n",
    "    \n",
    "    for(a in 1:length(y_true))\n",
    "    {\n",
    "        for(b in 1:length(y_true))\n",
    "        {\n",
    "            if (y_true[a] > y_true[b]) {\n",
    "                \n",
    "                num_pairs <- num_pairs + 1\n",
    "                \n",
    "                if (y_pred[a] > y_pred[b]) {\n",
    "                \n",
    "                    num_same_sign <- num_same_sign + 1\n",
    "                }\n",
    "                else if (y_pred[a] == y_pred[b]) {\n",
    "                    \n",
    "                    num_same_sign <- num_same_sign + .5\n",
    "                }\n",
    "            }\n",
    "        }\n",
    "    }\n",
    "    num_same_sign / num_pairs\n",
    "}"
   ]
  },
  {
   "cell_type": "code",
   "execution_count": 65,
   "id": "725f2610",
   "metadata": {},
   "outputs": [
    {
     "data": {
      "text/html": [
       "0.920086548864046"
      ],
      "text/latex": [
       "0.920086548864046"
      ],
      "text/markdown": [
       "0.920086548864046"
      ],
      "text/plain": [
       "[1] 0.9200865"
      ]
     },
     "metadata": {},
     "output_type": "display_data"
    }
   ],
   "source": [
    "naive_roc_auc_score(TEST$avg_perc_change_emp, y_hat)"
   ]
  }
 ],
 "metadata": {
  "kernelspec": {
   "display_name": "R",
   "language": "R",
   "name": "ir"
  },
  "language_info": {
   "codemirror_mode": "r",
   "file_extension": ".r",
   "mimetype": "text/x-r-source",
   "name": "R",
   "pygments_lexer": "r",
   "version": "4.1.1"
  }
 },
 "nbformat": 4,
 "nbformat_minor": 5
}
