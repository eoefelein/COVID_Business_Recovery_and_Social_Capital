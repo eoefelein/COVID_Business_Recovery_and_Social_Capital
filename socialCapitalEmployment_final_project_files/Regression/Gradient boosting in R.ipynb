{
 "cells": [
  {
   "cell_type": "markdown",
   "id": "0bfb92fb",
   "metadata": {},
   "source": [
    "# http://uc-r.github.io/gbm_regression\n",
    "Whereas random forests build an ensemble of deep independent trees, GBMs build an ensemble of shallow and weak successive trees with each tree learning and improving on the previous. "
   ]
  },
  {
   "cell_type": "code",
   "execution_count": 1,
   "id": "053bffda",
   "metadata": {},
   "outputs": [
    {
     "name": "stderr",
     "output_type": "stream",
     "text": [
      "Loaded gbm 2.1.8\n",
      "\n",
      "Loading required package: lattice\n",
      "\n",
      "Loading required package: ggplot2\n",
      "\n",
      "\n",
      "----------------------------------------------------------------------\n",
      "\n",
      "Your next step is to start H2O:\n",
      "    > h2o.init()\n",
      "\n",
      "For H2O package documentation, ask for help:\n",
      "    > ??h2o\n",
      "\n",
      "After starting H2O, you can use the Web UI at http://localhost:54321\n",
      "For more information visit https://docs.h2o.ai\n",
      "\n",
      "----------------------------------------------------------------------\n",
      "\n",
      "\n",
      "\n",
      "Attaching package: 'h2o'\n",
      "\n",
      "\n",
      "The following objects are masked from 'package:stats':\n",
      "\n",
      "    cor, sd, var\n",
      "\n",
      "\n",
      "The following objects are masked from 'package:base':\n",
      "\n",
      "    %*%, %in%, &&, ||, apply, as.factor, as.numeric, colnames,\n",
      "    colnames<-, ifelse, is.character, is.factor, is.numeric, log,\n",
      "    log10, log1p, log2, round, signif, trunc\n",
      "\n",
      "\n"
     ]
    }
   ],
   "source": [
    "library(rsample)      # data splitting \n",
    "library(gbm)          # basic implementation\n",
    "library(xgboost)      # a faster implementation of gbm\n",
    "library(caret)        # an aggregator package for performing many machine learning models\n",
    "library(h2o)          # a java-based platform\n",
    "library(pdp)          # model visualization\n",
    "library(ggplot2)      # model visualization\n",
    "library(lime)         # model visualization"
   ]
  },
  {
   "cell_type": "markdown",
   "id": "310120a5",
   "metadata": {},
   "source": [
    "# https://datascienceplus.com/gradient-boosting-in-r/\n",
    "Boosting is a sequential process in which each next model which is generated is added so as to improve a bit from the previous collection of models. In Boosting we do weighted averaging. \n",
    "Boosting is leans more towards Bias i.e simple learners or more specifically Weak learners. A weak learner is a learner which always learns something i.e does better than chance and also has error rate less then 50%. The best example of a weak learner is a Decision tree, and is why we generally use decision trees to improve accuracy and performance."
   ]
  },
  {
   "cell_type": "markdown",
   "id": "1e284647",
   "metadata": {},
   "source": [
    "## import data and check data attributes (NAs, column d_types, etc.)"
   ]
  },
  {
   "cell_type": "code",
   "execution_count": 2,
   "id": "d47e0cc1",
   "metadata": {},
   "outputs": [],
   "source": [
    "ml_data <- read.csv('ml_predict_data.csv')"
   ]
  },
  {
   "cell_type": "code",
   "execution_count": 3,
   "id": "8beace92",
   "metadata": {},
   "outputs": [],
   "source": [
    "# assign countyname col to ml_data idx\n",
    "row.names(ml_data) <- ml_data$X\n",
    "# drop X col\n",
    "drops <- c('X')\n",
    "ml_data <- ml_data[, !(names(ml_data) %in% drops)]"
   ]
  },
  {
   "cell_type": "code",
   "execution_count": 4,
   "id": "54c73674",
   "metadata": {},
   "outputs": [],
   "source": [
    "set.seed(1)  # for reproducibility\n",
    "\n",
    "# create index for testing and training data\n",
    "inTrain <- createDataPartition(y = ml_data$avg_perc_change, p = 0.7, list = FALSE)\n",
    "\n",
    "# subset ml_data to train\n",
    "training <- ml_data[inTrain,]\n",
    "\n",
    "# subset the rest to test\n",
    "testing <- ml_data[-inTrain,]"
   ]
  },
  {
   "cell_type": "markdown",
   "id": "563e0c0a",
   "metadata": {},
   "source": [
    "## hyperparameter tuning"
   ]
  },
  {
   "cell_type": "code",
   "execution_count": 28,
   "id": "e74e3659",
   "metadata": {},
   "outputs": [
    {
     "data": {
      "text/html": [
       "54"
      ],
      "text/latex": [
       "54"
      ],
      "text/markdown": [
       "54"
      ],
      "text/plain": [
       "[1] 54"
      ]
     },
     "metadata": {},
     "output_type": "display_data"
    }
   ],
   "source": [
    "# create hyperparameter grid\n",
    "hyper_grid <- expand.grid(\n",
    "  shrinkage = c(.15, .2, .25),\n",
    "  interaction.depth = c(3, 4, 5),\n",
    "  n.minobsinnode = c(15, 20, 25),\n",
    "  bag.fraction = c(.75, .8, .85), \n",
    "  optimal_trees = 0,               # a place to dump results\n",
    "  min_RMSE = 0                     # a place to dump results\n",
    ")\n",
    "\n",
    "# total number of combinations\n",
    "nrow(hyper_grid)"
   ]
  },
  {
   "cell_type": "markdown",
   "id": "4ad402d7",
   "metadata": {},
   "source": [
    "## grid search\n",
    "0.20\t4\t15\t0.85\t7\t -> 0.1531915"
   ]
  },
  {
   "cell_type": "code",
   "execution_count": 29,
   "id": "e73d64ba",
   "metadata": {},
   "outputs": [
    {
     "data": {
      "text/html": [
       "<table class=\"dataframe\">\n",
       "<caption>A data.frame: 10 × 6</caption>\n",
       "<thead>\n",
       "\t<tr><th></th><th scope=col>shrinkage</th><th scope=col>interaction.depth</th><th scope=col>n.minobsinnode</th><th scope=col>bag.fraction</th><th scope=col>optimal_trees</th><th scope=col>min_RMSE</th></tr>\n",
       "\t<tr><th></th><th scope=col>&lt;dbl&gt;</th><th scope=col>&lt;dbl&gt;</th><th scope=col>&lt;dbl&gt;</th><th scope=col>&lt;dbl&gt;</th><th scope=col>&lt;dbl&gt;</th><th scope=col>&lt;dbl&gt;</th></tr>\n",
       "</thead>\n",
       "<tbody>\n",
       "\t<tr><th scope=row>1</th><td>0.25</td><td>5</td><td>20</td><td>0.85</td><td>10</td><td>0.1634605</td></tr>\n",
       "\t<tr><th scope=row>2</th><td>0.15</td><td>4</td><td>15</td><td>0.75</td><td>19</td><td>0.1635547</td></tr>\n",
       "\t<tr><th scope=row>3</th><td>0.15</td><td>4</td><td>20</td><td>0.75</td><td>25</td><td>0.1637474</td></tr>\n",
       "\t<tr><th scope=row>4</th><td>0.15</td><td>3</td><td>20</td><td>0.75</td><td>19</td><td>0.1642755</td></tr>\n",
       "\t<tr><th scope=row>5</th><td>0.15</td><td>5</td><td>20</td><td>0.75</td><td>19</td><td>0.1644436</td></tr>\n",
       "\t<tr><th scope=row>6</th><td>0.20</td><td>3</td><td>20</td><td>0.75</td><td>18</td><td>0.1651799</td></tr>\n",
       "\t<tr><th scope=row>7</th><td>0.15</td><td>5</td><td>15</td><td>0.75</td><td>19</td><td>0.1654742</td></tr>\n",
       "\t<tr><th scope=row>8</th><td>0.15</td><td>3</td><td>15</td><td>0.75</td><td>19</td><td>0.1654746</td></tr>\n",
       "\t<tr><th scope=row>9</th><td>0.15</td><td>5</td><td>15</td><td>0.85</td><td>23</td><td>0.1655253</td></tr>\n",
       "\t<tr><th scope=row>10</th><td>0.25</td><td>4</td><td>20</td><td>0.75</td><td>25</td><td>0.1658219</td></tr>\n",
       "</tbody>\n",
       "</table>\n"
      ],
      "text/latex": [
       "A data.frame: 10 × 6\n",
       "\\begin{tabular}{r|llllll}\n",
       "  & shrinkage & interaction.depth & n.minobsinnode & bag.fraction & optimal\\_trees & min\\_RMSE\\\\\n",
       "  & <dbl> & <dbl> & <dbl> & <dbl> & <dbl> & <dbl>\\\\\n",
       "\\hline\n",
       "\t1 & 0.25 & 5 & 20 & 0.85 & 10 & 0.1634605\\\\\n",
       "\t2 & 0.15 & 4 & 15 & 0.75 & 19 & 0.1635547\\\\\n",
       "\t3 & 0.15 & 4 & 20 & 0.75 & 25 & 0.1637474\\\\\n",
       "\t4 & 0.15 & 3 & 20 & 0.75 & 19 & 0.1642755\\\\\n",
       "\t5 & 0.15 & 5 & 20 & 0.75 & 19 & 0.1644436\\\\\n",
       "\t6 & 0.20 & 3 & 20 & 0.75 & 18 & 0.1651799\\\\\n",
       "\t7 & 0.15 & 5 & 15 & 0.75 & 19 & 0.1654742\\\\\n",
       "\t8 & 0.15 & 3 & 15 & 0.75 & 19 & 0.1654746\\\\\n",
       "\t9 & 0.15 & 5 & 15 & 0.85 & 23 & 0.1655253\\\\\n",
       "\t10 & 0.25 & 4 & 20 & 0.75 & 25 & 0.1658219\\\\\n",
       "\\end{tabular}\n"
      ],
      "text/markdown": [
       "\n",
       "A data.frame: 10 × 6\n",
       "\n",
       "| <!--/--> | shrinkage &lt;dbl&gt; | interaction.depth &lt;dbl&gt; | n.minobsinnode &lt;dbl&gt; | bag.fraction &lt;dbl&gt; | optimal_trees &lt;dbl&gt; | min_RMSE &lt;dbl&gt; |\n",
       "|---|---|---|---|---|---|---|\n",
       "| 1 | 0.25 | 5 | 20 | 0.85 | 10 | 0.1634605 |\n",
       "| 2 | 0.15 | 4 | 15 | 0.75 | 19 | 0.1635547 |\n",
       "| 3 | 0.15 | 4 | 20 | 0.75 | 25 | 0.1637474 |\n",
       "| 4 | 0.15 | 3 | 20 | 0.75 | 19 | 0.1642755 |\n",
       "| 5 | 0.15 | 5 | 20 | 0.75 | 19 | 0.1644436 |\n",
       "| 6 | 0.20 | 3 | 20 | 0.75 | 18 | 0.1651799 |\n",
       "| 7 | 0.15 | 5 | 15 | 0.75 | 19 | 0.1654742 |\n",
       "| 8 | 0.15 | 3 | 15 | 0.75 | 19 | 0.1654746 |\n",
       "| 9 | 0.15 | 5 | 15 | 0.85 | 23 | 0.1655253 |\n",
       "| 10 | 0.25 | 4 | 20 | 0.75 | 25 | 0.1658219 |\n",
       "\n"
      ],
      "text/plain": [
       "   shrinkage interaction.depth n.minobsinnode bag.fraction optimal_trees\n",
       "1  0.25      5                 20             0.85         10           \n",
       "2  0.15      4                 15             0.75         19           \n",
       "3  0.15      4                 20             0.75         25           \n",
       "4  0.15      3                 20             0.75         19           \n",
       "5  0.15      5                 20             0.75         19           \n",
       "6  0.20      3                 20             0.75         18           \n",
       "7  0.15      5                 15             0.75         19           \n",
       "8  0.15      3                 15             0.75         19           \n",
       "9  0.15      5                 15             0.85         23           \n",
       "10 0.25      4                 20             0.75         25           \n",
       "   min_RMSE \n",
       "1  0.1634605\n",
       "2  0.1635547\n",
       "3  0.1637474\n",
       "4  0.1642755\n",
       "5  0.1644436\n",
       "6  0.1651799\n",
       "7  0.1654742\n",
       "8  0.1654746\n",
       "9  0.1655253\n",
       "10 0.1658219"
      ]
     },
     "metadata": {},
     "output_type": "display_data"
    }
   ],
   "source": [
    "# randomize data\n",
    "random_index <- sample(1:nrow(ml_data), nrow(ml_data))\n",
    "random_employ_train <- ml_data[random_index, ]\n",
    "\n",
    "# grid search \n",
    "for(i in 1:nrow(hyper_grid)) {\n",
    "  \n",
    "  # reproducibility\n",
    "  set.seed(1)\n",
    "  \n",
    "  # train model\n",
    "  gbm.tune <- gbm(\n",
    "    formula = avg_perc_change ~ .,\n",
    "    distribution = \"gaussian\",\n",
    "    data = random_employ_train,\n",
    "    n.trees = 9000,\n",
    "    interaction.depth = hyper_grid$interaction.depth[i],\n",
    "    shrinkage = hyper_grid$shrinkage[i],\n",
    "    n.minobsinnode = hyper_grid$n.minobsinnode[i],\n",
    "    bag.fraction = hyper_grid$bag.fraction[i],\n",
    "    train.fraction = .75,\n",
    "    n.cores = NULL, # will use all cores by default\n",
    "    verbose = FALSE\n",
    "  )\n",
    "  \n",
    "  # add min training error and trees to grid\n",
    "  hyper_grid$optimal_trees[i] <- which.min(gbm.tune$valid.error)\n",
    "  hyper_grid$min_RMSE[i] <- sqrt(min(gbm.tune$valid.error))\n",
    "}\n",
    "\n",
    "hyper_grid %>% \n",
    "  dplyr::arrange(min_RMSE) %>%\n",
    "  head(10)"
   ]
  },
  {
   "cell_type": "markdown",
   "id": "18ebe549",
   "metadata": {},
   "source": [
    "## train the gradient boosted model"
   ]
  },
  {
   "cell_type": "code",
   "execution_count": 30,
   "id": "4019542f",
   "metadata": {},
   "outputs": [],
   "source": [
    "gbm.fit.final = gbm(\n",
    "    avg_perc_change ~ ., \n",
    "    data = training, \n",
    "    distribution = \"gaussian\",\n",
    "    n.trees = 10000, # generates 10000 trees\n",
    "    shrinkage = 0.2, # also a sort of learning rate\n",
    "    interaction.depth = 4, # the total splits, each tree is a small tree with only 4 splits\n",
    "    n.minobsinnode = 15,\n",
    "    bag.fraction = 0.85,\n",
    "    train.fraction = .75,\n",
    "    cv.folds = 3,\n",
    "    n.cores = NULL, # will use all cores by default\n",
    ")"
   ]
  },
  {
   "cell_type": "markdown",
   "id": "c0463260",
   "metadata": {},
   "source": [
    "## Feature Importance Plot"
   ]
  },
  {
   "cell_type": "code",
   "execution_count": 31,
   "id": "09f783ba",
   "metadata": {},
   "outputs": [
    {
     "data": {
      "text/html": [
       "<table class=\"dataframe\">\n",
       "<caption>A data.frame: 20 × 2</caption>\n",
       "<thead>\n",
       "\t<tr><th></th><th scope=col>var</th><th scope=col>rel.inf</th></tr>\n",
       "\t<tr><th></th><th scope=col>&lt;chr&gt;</th><th scope=col>&lt;dbl&gt;</th></tr>\n",
       "</thead>\n",
       "<tbody>\n",
       "\t<tr><th scope=row>nonelder</th><td>nonelder          </td><td>12.611336</td></tr>\n",
       "\t<tr><th scope=row>new_case_count_sum</th><td>new_case_count_sum</td><td>10.377566</td></tr>\n",
       "\t<tr><th scope=row>state</th><td>state             </td><td> 8.408010</td></tr>\n",
       "\t<tr><th scope=row>religion</th><td>religion          </td><td> 7.267215</td></tr>\n",
       "\t<tr><th scope=row>education</th><td>education         </td><td> 5.485675</td></tr>\n",
       "\t<tr><th scope=row>employ</th><td>employ            </td><td> 5.219582</td></tr>\n",
       "\t<tr><th scope=row>union</th><td>union             </td><td> 4.965628</td></tr>\n",
       "\t<tr><th scope=row>genderincome</th><td>genderincome      </td><td> 4.897506</td></tr>\n",
       "\t<tr><th scope=row>language</th><td>language          </td><td> 4.684064</td></tr>\n",
       "\t<tr><th scope=row>ethnichpn</th><td>ethnichpn         </td><td> 4.461618</td></tr>\n",
       "\t<tr><th scope=row>local</th><td>local             </td><td> 4.270134</td></tr>\n",
       "\t<tr><th scope=row>charitable</th><td>charitable        </td><td> 3.647297</td></tr>\n",
       "\t<tr><th scope=row>commu</th><td>commu             </td><td> 3.564350</td></tr>\n",
       "\t<tr><th scope=row>federal</th><td>federal           </td><td> 3.447733</td></tr>\n",
       "\t<tr><th scope=row>ethnic</th><td>ethnic            </td><td> 3.428105</td></tr>\n",
       "\t<tr><th scope=row>incomeequal</th><td>incomeequal       </td><td> 3.106854</td></tr>\n",
       "\t<tr><th scope=row>fraternal</th><td>fraternal         </td><td> 2.799736</td></tr>\n",
       "\t<tr><th scope=row>voteage</th><td>voteage           </td><td> 2.764868</td></tr>\n",
       "\t<tr><th scope=row>civic</th><td>civic             </td><td> 2.563322</td></tr>\n",
       "\t<tr><th scope=row>politicalacts</th><td>politicalacts     </td><td> 2.029402</td></tr>\n",
       "</tbody>\n",
       "</table>\n"
      ],
      "text/latex": [
       "A data.frame: 20 × 2\n",
       "\\begin{tabular}{r|ll}\n",
       "  & var & rel.inf\\\\\n",
       "  & <chr> & <dbl>\\\\\n",
       "\\hline\n",
       "\tnonelder & nonelder           & 12.611336\\\\\n",
       "\tnew\\_case\\_count\\_sum & new\\_case\\_count\\_sum & 10.377566\\\\\n",
       "\tstate & state              &  8.408010\\\\\n",
       "\treligion & religion           &  7.267215\\\\\n",
       "\teducation & education          &  5.485675\\\\\n",
       "\temploy & employ             &  5.219582\\\\\n",
       "\tunion & union              &  4.965628\\\\\n",
       "\tgenderincome & genderincome       &  4.897506\\\\\n",
       "\tlanguage & language           &  4.684064\\\\\n",
       "\tethnichpn & ethnichpn          &  4.461618\\\\\n",
       "\tlocal & local              &  4.270134\\\\\n",
       "\tcharitable & charitable         &  3.647297\\\\\n",
       "\tcommu & commu              &  3.564350\\\\\n",
       "\tfederal & federal            &  3.447733\\\\\n",
       "\tethnic & ethnic             &  3.428105\\\\\n",
       "\tincomeequal & incomeequal        &  3.106854\\\\\n",
       "\tfraternal & fraternal          &  2.799736\\\\\n",
       "\tvoteage & voteage            &  2.764868\\\\\n",
       "\tcivic & civic              &  2.563322\\\\\n",
       "\tpoliticalacts & politicalacts      &  2.029402\\\\\n",
       "\\end{tabular}\n"
      ],
      "text/markdown": [
       "\n",
       "A data.frame: 20 × 2\n",
       "\n",
       "| <!--/--> | var &lt;chr&gt; | rel.inf &lt;dbl&gt; |\n",
       "|---|---|---|\n",
       "| nonelder | nonelder           | 12.611336 |\n",
       "| new_case_count_sum | new_case_count_sum | 10.377566 |\n",
       "| state | state              |  8.408010 |\n",
       "| religion | religion           |  7.267215 |\n",
       "| education | education          |  5.485675 |\n",
       "| employ | employ             |  5.219582 |\n",
       "| union | union              |  4.965628 |\n",
       "| genderincome | genderincome       |  4.897506 |\n",
       "| language | language           |  4.684064 |\n",
       "| ethnichpn | ethnichpn          |  4.461618 |\n",
       "| local | local              |  4.270134 |\n",
       "| charitable | charitable         |  3.647297 |\n",
       "| commu | commu              |  3.564350 |\n",
       "| federal | federal            |  3.447733 |\n",
       "| ethnic | ethnic             |  3.428105 |\n",
       "| incomeequal | incomeequal        |  3.106854 |\n",
       "| fraternal | fraternal          |  2.799736 |\n",
       "| voteage | voteage            |  2.764868 |\n",
       "| civic | civic              |  2.563322 |\n",
       "| politicalacts | politicalacts      |  2.029402 |\n",
       "\n"
      ],
      "text/plain": [
       "                   var                rel.inf  \n",
       "nonelder           nonelder           12.611336\n",
       "new_case_count_sum new_case_count_sum 10.377566\n",
       "state              state               8.408010\n",
       "religion           religion            7.267215\n",
       "education          education           5.485675\n",
       "employ             employ              5.219582\n",
       "union              union               4.965628\n",
       "genderincome       genderincome        4.897506\n",
       "language           language            4.684064\n",
       "ethnichpn          ethnichpn           4.461618\n",
       "local              local               4.270134\n",
       "charitable         charitable          3.647297\n",
       "commu              commu               3.564350\n",
       "federal            federal             3.447733\n",
       "ethnic             ethnic              3.428105\n",
       "incomeequal        incomeequal         3.106854\n",
       "fraternal          fraternal           2.799736\n",
       "voteage            voteage             2.764868\n",
       "civic              civic               2.563322\n",
       "politicalacts      politicalacts       2.029402"
      ]
     },
     "metadata": {},
     "output_type": "display_data"
    },
    {
     "data": {
      "image/png": "[encoded data removed]",
      "text/plain": [
       "plot without title"
      ]
     },
     "metadata": {
      "image/png": {
       "height": 420,
       "width": 420
      }
     },
     "output_type": "display_data"
    }
   ],
   "source": [
    "# summary gives a table of Variable Importance (from most to least important) and a plot of Variable Importance\n",
    "summary(gbm.fit.final)"
   ]
  },
  {
   "cell_type": "markdown",
   "id": "17543edc",
   "metadata": {},
   "source": [
    "## Partial Dependence Plot\n",
    "plots the average marginal effect on the response variable"
   ]
  },
  {
   "cell_type": "code",
   "execution_count": 32,
   "id": "d34b9fc1",
   "metadata": {},
   "outputs": [
    {
     "data": {
      "image/png": "[encoded data removed]",
      "text/plain": [
       "plot without title"
      ]
     },
     "metadata": {
      "image/png": {
       "height": 420,
       "width": 420
      }
     },
     "output_type": "display_data"
    }
   ],
   "source": [
    "# Plot of Response variable with lstat variable\n",
    "plot(gbm.fit.final,i=\"nonelder\") \n",
    "# Inverse relation with avg_perc_change variable"
   ]
  },
  {
   "cell_type": "code",
   "execution_count": 8,
   "id": "291bffdc",
   "metadata": {},
   "outputs": [
    {
     "data": {
      "text/html": [
       "0.21765185713722"
      ],
      "text/latex": [
       "0.21765185713722"
      ],
      "text/markdown": [
       "0.21765185713722"
      ],
      "text/plain": [
       "[1] 0.2176519"
      ]
     },
     "metadata": {},
     "output_type": "display_data"
    }
   ],
   "source": [
    "cor(ml_data$avg_perc_change, ml_data$nonelder) # negetive correlation coeff-r"
   ]
  },
  {
   "cell_type": "code",
   "execution_count": 33,
   "id": "fdcbfc47",
   "metadata": {},
   "outputs": [
    {
     "data": {
      "image/png": "[encoded data removed]",
      "text/plain": [
       "plot without title"
      ]
     },
     "metadata": {
      "image/png": {
       "height": 420,
       "width": 420
      }
     },
     "output_type": "display_data"
    }
   ],
   "source": [
    "plot(gbm.fit.final,i=\"religion\") \n",
    "# Inverse relation with avg_perc_change variable"
   ]
  },
  {
   "cell_type": "code",
   "execution_count": 10,
   "id": "70ff9a91",
   "metadata": {},
   "outputs": [
    {
     "data": {
      "text/html": [
       "-0.156546240253644"
      ],
      "text/latex": [
       "-0.156546240253644"
      ],
      "text/markdown": [
       "-0.156546240253644"
      ],
      "text/plain": [
       "[1] -0.1565462"
      ]
     },
     "metadata": {},
     "output_type": "display_data"
    }
   ],
   "source": [
    "cor(ml_data$avg_perc_change, ml_data$religion) # negetive correlation coeff-r"
   ]
  },
  {
   "cell_type": "code",
   "execution_count": 34,
   "id": "3201ea9b",
   "metadata": {},
   "outputs": [
    {
     "data": {
      "image/png": "[encoded data removed]",
      "text/plain": [
       "plot without title"
      ]
     },
     "metadata": {
      "image/png": {
       "height": 420,
       "width": 420
      }
     },
     "output_type": "display_data"
    }
   ],
   "source": [
    "plot(gbm.fit.final,i=\"education\") \n",
    "# Inverse relation with avg_perc_change variable"
   ]
  },
  {
   "cell_type": "code",
   "execution_count": 12,
   "id": "d327ac8f",
   "metadata": {},
   "outputs": [
    {
     "data": {
      "text/html": [
       "0.063031159158991"
      ],
      "text/latex": [
       "0.063031159158991"
      ],
      "text/markdown": [
       "0.063031159158991"
      ],
      "text/plain": [
       "[1] 0.06303116"
      ]
     },
     "metadata": {},
     "output_type": "display_data"
    }
   ],
   "source": [
    "cor(ml_data$avg_perc_change, ml_data$education)# positive correlation coeff-r"
   ]
  },
  {
   "cell_type": "code",
   "execution_count": 35,
   "id": "b7459dec",
   "metadata": {},
   "outputs": [
    {
     "data": {
      "image/png": "[encoded data removed]",
      "text/plain": [
       "plot without title"
      ]
     },
     "metadata": {
      "image/png": {
       "height": 420,
       "width": 420
      }
     },
     "output_type": "display_data"
    }
   ],
   "source": [
    "plot(gbm.fit.final,i=\"new_case_count_sum\") \n",
    "# Inverse relation with avg_perc_change variable"
   ]
  },
  {
   "cell_type": "code",
   "execution_count": 14,
   "id": "2be6d353",
   "metadata": {},
   "outputs": [
    {
     "data": {
      "text/html": [
       "0.00687577145977856"
      ],
      "text/latex": [
       "0.00687577145977856"
      ],
      "text/markdown": [
       "0.00687577145977856"
      ],
      "text/plain": [
       "[1] 0.006875771"
      ]
     },
     "metadata": {},
     "output_type": "display_data"
    }
   ],
   "source": [
    "cor(ml_data$avg_perc_change, ml_data$new_case_count_sum) # positive correlation coeff-r"
   ]
  },
  {
   "cell_type": "markdown",
   "id": "69dba484",
   "metadata": {},
   "source": [
    "## ICE Plot\n",
    "plots the change in the predicted response variable for varied predictor variable values"
   ]
  },
  {
   "cell_type": "code",
   "execution_count": 36,
   "id": "1c65cda3",
   "metadata": {},
   "outputs": [
    {
     "name": "stderr",
     "output_type": "stream",
     "text": [
      "Warning message:\n",
      "\"Use of `object[[1L]]` is discouraged. Use `.data[[1L]]` instead.\"\n",
      "Warning message:\n",
      "\"Use of `object[[\"yhat\"]]` is discouraged. Use `.data[[\"yhat\"]]` instead.\"\n",
      "Warning message:\n",
      "\"Use of `x.rug[[1L]]` is discouraged. Use `.data[[1L]]` instead.\"\n"
     ]
    },
    {
     "data": {
      "image/png": "[encoded data removed]",
      "text/plain": [
       "plot without title"
      ]
     },
     "metadata": {
      "image/png": {
       "height": 420,
       "width": 420
      }
     },
     "output_type": "display_data"
    }
   ],
   "source": [
    "# gbm.fit.final %>%\n",
    "#   partial(pred.var = \"avg_perc_change\", n.trees = gbm.fit.final$n.trees, grid.resolution = 100) %>%\n",
    "#   autoplot(rug = TRUE, train = training) \n",
    "# # +\n",
    "# #   scale_y_continuous(labels = scales::dollar)"
   ]
  },
  {
   "cell_type": "markdown",
   "id": "1e11aa88",
   "metadata": {},
   "source": [
    "### centered vs. non-centered"
   ]
  },
  {
   "cell_type": "code",
   "execution_count": null,
   "id": "799d1356",
   "metadata": {},
   "outputs": [],
   "source": [
    "# ice1 <- gbm.fit.final %>%\n",
    "#   partial(\n",
    "#     pred.var = \"Gr_Liv_Area\", \n",
    "#     n.trees = gbm.fit.final$n.trees, \n",
    "#     grid.resolution = 100,\n",
    "#     ice = TRUE\n",
    "#     ) %>%\n",
    "#   autoplot(rug = TRUE, train = ames_train, alpha = .1) +\n",
    "#   ggtitle(\"Non-centered\") +\n",
    "#   scale_y_continuous(labels = scales::dollar)\n",
    "\n",
    "# ice2 <- gbm.fit.final %>%\n",
    "#   partial(\n",
    "#     pred.var = \"Gr_Liv_Area\", \n",
    "#     n.trees = gbm.fit.final$n.trees, \n",
    "#     grid.resolution = 100,\n",
    "#     ice = TRUE\n",
    "#     ) %>%\n",
    "#   autoplot(rug = TRUE, train = ames_train, alpha = .1, center = TRUE) +\n",
    "#   ggtitle(\"Centered\") +\n",
    "#   scale_y_continuous(labels = scales::dollar)\n",
    "\n",
    "# gridExtra::grid.arrange(ice1, ice2, nrow = 1)"
   ]
  },
  {
   "cell_type": "markdown",
   "id": "54edb4fb",
   "metadata": {},
   "source": [
    "# making predictions"
   ]
  },
  {
   "cell_type": "code",
   "execution_count": 37,
   "id": "de216bca",
   "metadata": {},
   "outputs": [],
   "source": [
    "# predict values for test data\n",
    "pred <- predict(gbm.fit.final, n.trees = gbm.fit.final$n.trees, testing)"
   ]
  },
  {
   "cell_type": "markdown",
   "id": "1cc6ef62",
   "metadata": {},
   "source": [
    "## MSE"
   ]
  },
  {
   "cell_type": "code",
   "execution_count": 16,
   "id": "3f15701d",
   "metadata": {},
   "outputs": [
    {
     "data": {
      "text/html": [
       "<style>\n",
       ".dl-inline {width: auto; margin:0; padding: 0}\n",
       ".dl-inline>dt, .dl-inline>dd {float: none; width: auto; display: inline-block}\n",
       ".dl-inline>dt::after {content: \":\\0020\"; padding-right: .5ex}\n",
       ".dl-inline>dt:not(:first-of-type) {padding-left: .5ex}\n",
       "</style><dl class=dl-inline><dt>100</dt><dd>0.0231760886344466</dd><dt>150</dt><dd>0.0229600293858072</dd><dt>200</dt><dd>0.0227575571420894</dd><dt>250</dt><dd>0.0225837371965377</dd><dt>300</dt><dd>0.0224317862364257</dd><dt>350</dt><dd>0.0222800500156061</dd></dl>\n"
      ],
      "text/latex": [
       "\\begin{description*}\n",
       "\\item[100] 0.0231760886344466\n",
       "\\item[150] 0.0229600293858072\n",
       "\\item[200] 0.0227575571420894\n",
       "\\item[250] 0.0225837371965377\n",
       "\\item[300] 0.0224317862364257\n",
       "\\item[350] 0.0222800500156061\n",
       "\\end{description*}\n"
      ],
      "text/markdown": [
       "100\n",
       ":   0.0231760886344466150\n",
       ":   0.0229600293858072200\n",
       ":   0.0227575571420894250\n",
       ":   0.0225837371965377300\n",
       ":   0.0224317862364257350\n",
       ":   0.0222800500156061\n",
       "\n"
      ],
      "text/plain": [
       "       100        150        200        250        300        350 \n",
       "0.02317609 0.02296003 0.02275756 0.02258374 0.02243179 0.02228005 "
      ]
     },
     "metadata": {},
     "output_type": "display_data"
    }
   ],
   "source": [
    "#Calculating The Mean squared Test Error\n",
    "test.error<-with(testing,apply( (predmatrix-avg_perc_change)^2,2,mean))\n",
    "head(test.error) #contains the Mean squared test error for each of the 100 trees averaged"
   ]
  },
  {
   "cell_type": "code",
   "execution_count": 17,
   "id": "926e65a6",
   "metadata": {},
   "outputs": [
    {
     "data": {
      "image/png": "[encoded data removed]",
      "text/plain": [
       "Plot with title \"Perfomance of Boosting on Test Set\""
      ]
     },
     "metadata": {
      "image/png": {
       "height": 420,
       "width": 420
      }
     },
     "output_type": "display_data"
    }
   ],
   "source": [
    "# Plotting the test error vs number of trees\n",
    "plot(n.trees, test.error, pch = 19, col = \"blue\", xlab = \"Number of Trees\", ylab = \"Test Error\",\n",
    "    main = \"Perfomance of Boosting on Test Set\")\n",
    "\n",
    "# adding the RandomForests Minimum Error line trained on same data and similar\n",
    "# parameters\n",
    "abline(h = min(test.error), col = \"red\")  #test.err is the test error of a Random forest fitted on same data\n",
    "legend(\"topright\", c(\"Minimum Test error Line for Random Forests\"), col = \"red\",\n",
    "    lty = 1, lwd = 1)"
   ]
  },
  {
   "cell_type": "markdown",
   "id": "ed160fdd",
   "metadata": {},
   "source": [
    "If boosting is done properly, by selecting appropriate tuning parameters such as:\n",
    " - the shrinkage parameter (lambda)\n",
    " - the number of splits\n",
    " - the number of trees n\n",
    "\n",
    "then it can generalize really well and convert a weak learner to strong learner. "
   ]
  },
  {
   "cell_type": "markdown",
   "id": "552e3f90",
   "metadata": {},
   "source": [
    "## RSME"
   ]
  },
  {
   "cell_type": "markdown",
   "id": "324d1852",
   "metadata": {},
   "source": [
    "## manual calculation"
   ]
  },
  {
   "cell_type": "code",
   "execution_count": 18,
   "id": "3e5a8a68",
   "metadata": {},
   "outputs": [],
   "source": [
    "rmse = function(actual, predicted) {\n",
    "  sqrt(mean((actual - predicted) ^ 2))\n",
    "}"
   ]
  },
  {
   "cell_type": "code",
   "execution_count": 19,
   "id": "5cd0aa77",
   "metadata": {},
   "outputs": [
    {
     "data": {
      "text/html": [
       "0.152236948979039"
      ],
      "text/latex": [
       "0.152236948979039"
      ],
      "text/markdown": [
       "0.152236948979039"
      ],
      "text/plain": [
       "[1] 0.1522369"
      ]
     },
     "metadata": {},
     "output_type": "display_data"
    }
   ],
   "source": [
    "rmse(testing$avg_perc_change, predmatrix[,1])"
   ]
  },
  {
   "cell_type": "markdown",
   "id": "27d83a94",
   "metadata": {},
   "source": [
    "## using caret package calculation"
   ]
  },
  {
   "cell_type": "code",
   "execution_count": null,
   "id": "7e3aa639",
   "metadata": {},
   "outputs": [],
   "source": [
    "# results\n",
    "caret::RMSE(pred, testing$avg_perc_change)"
   ]
  },
  {
   "cell_type": "markdown",
   "id": "6247b9b3",
   "metadata": {},
   "source": [
    "## plot loss function as a result of n trees added to the ensemble"
   ]
  },
  {
   "cell_type": "code",
   "execution_count": 20,
   "id": "ca3096e7",
   "metadata": {},
   "outputs": [
    {
     "data": {
      "text/html": [
       "0.163038967890212"
      ],
      "text/latex": [
       "0.163038967890212"
      ],
      "text/markdown": [
       "0.163038967890212"
      ],
      "text/plain": [
       "[1] 0.163039"
      ]
     },
     "metadata": {},
     "output_type": "display_data"
    },
    {
     "data": {
      "text/html": [
       "1258"
      ],
      "text/latex": [
       "1258"
      ],
      "text/markdown": [
       "1258"
      ],
      "text/plain": [
       "[1] 1258"
      ]
     },
     "metadata": {},
     "output_type": "display_data"
    },
    {
     "data": {
      "image/png": "[encoded data removed]",
      "text/plain": [
       "plot without title"
      ]
     },
     "metadata": {
      "image/png": {
       "height": 420,
       "width": 420
      }
     },
     "output_type": "display_data"
    }
   ],
   "source": [
    "# get MSE and compute RMSE\n",
    "sqrt(min(Employ.Boost$cv.error))\n",
    "## [1] 29133.33\n",
    "\n",
    "# plot loss function as a result of n trees added to the ensemble\n",
    "gbm.perf(Employ.Boost, method = \"cv\")"
   ]
  },
  {
   "cell_type": "markdown",
   "id": "85b3cac6",
   "metadata": {},
   "source": [
    "# naive_roc_auc_score"
   ]
  },
  {
   "cell_type": "code",
   "execution_count": 38,
   "id": "8efdb835",
   "metadata": {},
   "outputs": [],
   "source": [
    "naive_roc_auc_score <- function(y_true, y_pred) {\n",
    "    num_same_sign <- 0\n",
    "    num_pairs <- 0 \n",
    "    \n",
    "    for(a in 1:length(y_true))\n",
    "    {\n",
    "        for(b in 1:length(y_true))\n",
    "        {\n",
    "            if (y_true[a] > y_true[b]) {\n",
    "                \n",
    "                num_pairs <- num_pairs + 1\n",
    "                \n",
    "                if (y_pred[a] > y_pred[b]) {\n",
    "                \n",
    "                    num_same_sign <- num_same_sign + 1\n",
    "                }\n",
    "                else if (y_pred[a] == y_pred[b]) {\n",
    "                    \n",
    "                    num_same_sign <- num_same_sign + .5\n",
    "                }\n",
    "            }\n",
    "        }\n",
    "    }\n",
    "    num_same_sign / num_pairs\n",
    "}"
   ]
  },
  {
   "cell_type": "code",
   "execution_count": 39,
   "id": "1566e226",
   "metadata": {},
   "outputs": [
    {
     "data": {
      "text/html": [
       "0.5372150997151"
      ],
      "text/latex": [
       "0.5372150997151"
      ],
      "text/markdown": [
       "0.5372150997151"
      ],
      "text/plain": [
       "[1] 0.5372151"
      ]
     },
     "metadata": {},
     "output_type": "display_data"
    }
   ],
   "source": [
    "naive_roc_auc_score(testing$avg_perc_change, pred)"
   ]
  }
 ],
 "metadata": {
  "kernelspec": {
   "display_name": "R",
   "language": "R",
   "name": "ir"
  },
  "language_info": {
   "codemirror_mode": "r",
   "file_extension": ".r",
   "mimetype": "text/x-r-source",
   "name": "R",
   "pygments_lexer": "r",
   "version": "4.1.1"
  }
 },
 "nbformat": 4,
 "nbformat_minor": 5
}
