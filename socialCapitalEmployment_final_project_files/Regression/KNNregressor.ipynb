{
 "cells": [
  {
   "cell_type": "code",
   "execution_count": 1,
   "id": "7f70d706",
   "metadata": {},
   "outputs": [
    {
     "name": "stderr",
     "output_type": "stream",
     "text": [
      "\n",
      "Attaching package: 'dplyr'\n",
      "\n",
      "\n",
      "The following objects are masked from 'package:stats':\n",
      "\n",
      "    filter, lag\n",
      "\n",
      "\n",
      "The following objects are masked from 'package:base':\n",
      "\n",
      "    intersect, setdiff, setequal, union\n",
      "\n",
      "\n",
      "Loading required package: lattice\n",
      "\n",
      "Loading required package: ggplot2\n",
      "\n",
      "Registered S3 methods overwritten by 'parameters':\n",
      "  method                           from      \n",
      "  as.double.parameters_kurtosis    datawizard\n",
      "  as.double.parameters_skewness    datawizard\n",
      "  as.double.parameters_smoothness  datawizard\n",
      "  as.numeric.parameters_kurtosis   datawizard\n",
      "  as.numeric.parameters_skewness   datawizard\n",
      "  as.numeric.parameters_smoothness datawizard\n",
      "  print.parameters_distribution    datawizard\n",
      "  print.parameters_kurtosis        datawizard\n",
      "  print.parameters_skewness        datawizard\n",
      "  summary.parameters_kurtosis      datawizard\n",
      "  summary.parameters_skewness      datawizard\n",
      "\n",
      "\n",
      "Attaching package: 'FNN'\n",
      "\n",
      "\n",
      "The following objects are masked from 'package:class':\n",
      "\n",
      "    knn, knn.cv\n",
      "\n",
      "\n"
     ]
    }
   ],
   "source": [
    "library(dplyr)\n",
    "\n",
    "library(caret)\n",
    "library(sjPlot) # elbow method to find out k\n",
    "\n",
    "library(class) # access the knn() function\n",
    "library(FNN)\n",
    "\n",
    "library(ISLR)"
   ]
  },
  {
   "cell_type": "markdown",
   "id": "1a80c202",
   "metadata": {},
   "source": [
    "# Does the COVID new_case_counts (over the past x days) and the social indices of a county predict aggregated employment rates relative to last year?\n",
    "### So if I use the mean employment rate over the past x days, does that predict the mean employment rate over the next x day period?"
   ]
  },
  {
   "cell_type": "markdown",
   "id": "85e148cc",
   "metadata": {},
   "source": [
    "## import data and check data attributes (NAs, column d_types, etc.)"
   ]
  },
  {
   "cell_type": "code",
   "execution_count": 2,
   "id": "8508164c",
   "metadata": {},
   "outputs": [],
   "source": [
    "ml_data <- read.csv('ml_predict_data.csv')"
   ]
  },
  {
   "cell_type": "code",
   "execution_count": 3,
   "id": "0c97988c",
   "metadata": {},
   "outputs": [],
   "source": [
    "# assign countyname col to ml_data idx\n",
    "row.names(ml_data) <- ml_data$X\n",
    "# drop X col\n",
    "drops <- c('X')\n",
    "ml_data <- ml_data[, !(names(ml_data) %in% drops)]"
   ]
  },
  {
   "cell_type": "code",
   "execution_count": 4,
   "id": "eec0bfe0",
   "metadata": {},
   "outputs": [
    {
     "name": "stderr",
     "output_type": "stream",
     "text": [
      "Warning message in cbind(parts$left, ellip_h, parts$right, deparse.level = 0L):\n",
      "\"number of rows of result is not a multiple of vector length (arg 2)\"\n",
      "Warning message in cbind(parts$left, ellip_h, parts$right, deparse.level = 0L):\n",
      "\"number of rows of result is not a multiple of vector length (arg 2)\"\n",
      "Warning message in cbind(parts$left, ellip_h, parts$right, deparse.level = 0L):\n",
      "\"number of rows of result is not a multiple of vector length (arg 2)\"\n",
      "Warning message in cbind(parts$left, ellip_h, parts$right, deparse.level = 0L):\n",
      "\"number of rows of result is not a multiple of vector length (arg 2)\"\n"
     ]
    },
    {
     "data": {
      "text/html": [
       "<table class=\"dataframe\">\n",
       "<caption>A data.frame: 0 × 21</caption>\n",
       "<thead>\n",
       "\t<tr><th scope=col>avg_perc_change</th><th scope=col>new_case_count_sum</th><th scope=col>religion</th><th scope=col>civic</th><th scope=col>charitable</th><th scope=col>fraternal</th><th scope=col>union</th><th scope=col>voteage</th><th scope=col>local</th><th scope=col>state</th><th scope=col>...</th><th scope=col>politicalacts</th><th scope=col>ethnic</th><th scope=col>ethnichpn</th><th scope=col>education</th><th scope=col>incomeequal</th><th scope=col>employ</th><th scope=col>genderincome</th><th scope=col>language</th><th scope=col>commu</th><th scope=col>nonelder</th></tr>\n",
       "\t<tr><th scope=col>&lt;dbl&gt;</th><th scope=col>&lt;int&gt;</th><th scope=col>&lt;dbl&gt;</th><th scope=col>&lt;dbl&gt;</th><th scope=col>&lt;dbl&gt;</th><th scope=col>&lt;dbl&gt;</th><th scope=col>&lt;dbl&gt;</th><th scope=col>&lt;dbl&gt;</th><th scope=col>&lt;dbl&gt;</th><th scope=col>&lt;dbl&gt;</th><th scope=col>...</th><th scope=col>&lt;dbl&gt;</th><th scope=col>&lt;dbl&gt;</th><th scope=col>&lt;dbl&gt;</th><th scope=col>&lt;dbl&gt;</th><th scope=col>&lt;dbl&gt;</th><th scope=col>&lt;dbl&gt;</th><th scope=col>&lt;dbl&gt;</th><th scope=col>&lt;dbl&gt;</th><th scope=col>&lt;dbl&gt;</th><th scope=col>&lt;dbl&gt;</th></tr>\n",
       "</thead>\n",
       "<tbody>\n",
       "</tbody>\n",
       "</table>\n"
      ],
      "text/latex": [
       "A data.frame: 0 × 21\n",
       "\\begin{tabular}{lllllllllllllllllllll}\n",
       " avg\\_perc\\_change & new\\_case\\_count\\_sum & religion & civic & charitable & fraternal & union & voteage & local & state & ... & politicalacts & ethnic & ethnichpn & education & incomeequal & employ & genderincome & language & commu & nonelder\\\\\n",
       " <dbl> & <int> & <dbl> & <dbl> & <dbl> & <dbl> & <dbl> & <dbl> & <dbl> & <dbl> & ... & <dbl> & <dbl> & <dbl> & <dbl> & <dbl> & <dbl> & <dbl> & <dbl> & <dbl> & <dbl>\\\\\n",
       "\\hline\n",
       "\\end{tabular}\n"
      ],
      "text/markdown": [
       "\n",
       "A data.frame: 0 × 21\n",
       "\n",
       "| avg_perc_change &lt;dbl&gt; | new_case_count_sum &lt;int&gt; | religion &lt;dbl&gt; | civic &lt;dbl&gt; | charitable &lt;dbl&gt; | fraternal &lt;dbl&gt; | union &lt;dbl&gt; | voteage &lt;dbl&gt; | local &lt;dbl&gt; | state &lt;dbl&gt; | ... ... | politicalacts &lt;dbl&gt; | ethnic &lt;dbl&gt; | ethnichpn &lt;dbl&gt; | education &lt;dbl&gt; | incomeequal &lt;dbl&gt; | employ &lt;dbl&gt; | genderincome &lt;dbl&gt; | language &lt;dbl&gt; | commu &lt;dbl&gt; | nonelder &lt;dbl&gt; |\n",
       "|---|---|---|---|---|---|---|---|---|---|---|---|---|---|---|---|---|---|---|---|---|\n",
       "\n"
      ],
      "text/plain": [
       "     avg_perc_change new_case_count_sum religion civic charitable fraternal\n",
       "     union voteage local state ... politicalacts ethnic ethnichpn education\n",
       "     incomeequal employ genderincome language commu nonelder"
      ]
     },
     "metadata": {},
     "output_type": "display_data"
    }
   ],
   "source": [
    "# check for missing data\n",
    "ml_data[!complete.cases(ml_data),]"
   ]
  },
  {
   "cell_type": "code",
   "execution_count": 5,
   "id": "0e5fd918",
   "metadata": {},
   "outputs": [
    {
     "data": {
      "text/html": [
       "<style>\n",
       ".dl-inline {width: auto; margin:0; padding: 0}\n",
       ".dl-inline>dt, .dl-inline>dd {float: none; width: auto; display: inline-block}\n",
       ".dl-inline>dt::after {content: \":\\0020\"; padding-right: .5ex}\n",
       ".dl-inline>dt:not(:first-of-type) {padding-left: .5ex}\n",
       "</style><dl class=dl-inline><dt>avg_perc_change</dt><dd>'numeric'</dd><dt>new_case_count_sum</dt><dd>'integer'</dd><dt>religion</dt><dd>'numeric'</dd><dt>civic</dt><dd>'numeric'</dd><dt>charitable</dt><dd>'numeric'</dd><dt>fraternal</dt><dd>'numeric'</dd><dt>union</dt><dd>'numeric'</dd><dt>voteage</dt><dd>'numeric'</dd><dt>local</dt><dd>'numeric'</dd><dt>state</dt><dd>'numeric'</dd><dt>federal</dt><dd>'numeric'</dd><dt>politicalacts</dt><dd>'numeric'</dd><dt>ethnic</dt><dd>'numeric'</dd><dt>ethnichpn</dt><dd>'numeric'</dd><dt>education</dt><dd>'numeric'</dd><dt>incomeequal</dt><dd>'numeric'</dd><dt>employ</dt><dd>'numeric'</dd><dt>genderincome</dt><dd>'numeric'</dd><dt>language</dt><dd>'numeric'</dd><dt>commu</dt><dd>'numeric'</dd><dt>nonelder</dt><dd>'numeric'</dd></dl>\n"
      ],
      "text/latex": [
       "\\begin{description*}\n",
       "\\item[avg\\textbackslash{}\\_perc\\textbackslash{}\\_change] 'numeric'\n",
       "\\item[new\\textbackslash{}\\_case\\textbackslash{}\\_count\\textbackslash{}\\_sum] 'integer'\n",
       "\\item[religion] 'numeric'\n",
       "\\item[civic] 'numeric'\n",
       "\\item[charitable] 'numeric'\n",
       "\\item[fraternal] 'numeric'\n",
       "\\item[union] 'numeric'\n",
       "\\item[voteage] 'numeric'\n",
       "\\item[local] 'numeric'\n",
       "\\item[state] 'numeric'\n",
       "\\item[federal] 'numeric'\n",
       "\\item[politicalacts] 'numeric'\n",
       "\\item[ethnic] 'numeric'\n",
       "\\item[ethnichpn] 'numeric'\n",
       "\\item[education] 'numeric'\n",
       "\\item[incomeequal] 'numeric'\n",
       "\\item[employ] 'numeric'\n",
       "\\item[genderincome] 'numeric'\n",
       "\\item[language] 'numeric'\n",
       "\\item[commu] 'numeric'\n",
       "\\item[nonelder] 'numeric'\n",
       "\\end{description*}\n"
      ],
      "text/markdown": [
       "avg_perc_change\n",
       ":   'numeric'new_case_count_sum\n",
       ":   'integer'religion\n",
       ":   'numeric'civic\n",
       ":   'numeric'charitable\n",
       ":   'numeric'fraternal\n",
       ":   'numeric'union\n",
       ":   'numeric'voteage\n",
       ":   'numeric'local\n",
       ":   'numeric'state\n",
       ":   'numeric'federal\n",
       ":   'numeric'politicalacts\n",
       ":   'numeric'ethnic\n",
       ":   'numeric'ethnichpn\n",
       ":   'numeric'education\n",
       ":   'numeric'incomeequal\n",
       ":   'numeric'employ\n",
       ":   'numeric'genderincome\n",
       ":   'numeric'language\n",
       ":   'numeric'commu\n",
       ":   'numeric'nonelder\n",
       ":   'numeric'\n",
       "\n"
      ],
      "text/plain": [
       "   avg_perc_change new_case_count_sum           religion              civic \n",
       "         \"numeric\"          \"integer\"          \"numeric\"          \"numeric\" \n",
       "        charitable          fraternal              union            voteage \n",
       "         \"numeric\"          \"numeric\"          \"numeric\"          \"numeric\" \n",
       "             local              state            federal      politicalacts \n",
       "         \"numeric\"          \"numeric\"          \"numeric\"          \"numeric\" \n",
       "            ethnic          ethnichpn          education        incomeequal \n",
       "         \"numeric\"          \"numeric\"          \"numeric\"          \"numeric\" \n",
       "            employ       genderincome           language              commu \n",
       "         \"numeric\"          \"numeric\"          \"numeric\"          \"numeric\" \n",
       "          nonelder \n",
       "         \"numeric\" "
      ]
     },
     "metadata": {},
     "output_type": "display_data"
    }
   ],
   "source": [
    "# check columns classes\n",
    "sapply(ml_data, class)"
   ]
  },
  {
   "cell_type": "markdown",
   "id": "c74fddb3",
   "metadata": {},
   "source": [
    "## check target variable distribution"
   ]
  },
  {
   "cell_type": "code",
   "execution_count": 6,
   "id": "4f0d3fd7",
   "metadata": {},
   "outputs": [
    {
     "data": {
      "image/png": "[encoded data removed]",
      "text/plain": [
       "plot without title"
      ]
     },
     "metadata": {
      "image/png": {
       "height": 420,
       "width": 420
      }
     },
     "output_type": "display_data"
    }
   ],
   "source": [
    "# check distribtuion of target variable\n",
    "b <- boxplot(ml_data$avg_perc_change)"
   ]
  },
  {
   "cell_type": "markdown",
   "id": "f682f505",
   "metadata": {},
   "source": [
    "## randomize, scale and split data to train & test sets"
   ]
  },
  {
   "cell_type": "code",
   "execution_count": 7,
   "id": "a444cded",
   "metadata": {},
   "outputs": [],
   "source": [
    "# function to scale X data\n",
    "normalize <- function(x) {\n",
    "    return((x - min(x))/(max(x) - min(x)))\n",
    "}"
   ]
  },
  {
   "cell_type": "code",
   "execution_count": 8,
   "id": "ea9f76a8",
   "metadata": {},
   "outputs": [],
   "source": [
    "set.seed(1)\n",
    "#create an index to split the data: 80% training and 20% test\n",
    "index = round(nrow(ml_data)*0.2,digits=0)\n",
    "#sample randomly throughout the dataset and keep the total number equal to the value of index\n",
    "test.indices = sample(1:nrow(ml_data), index)\n",
    "\n",
    "#80% training set\n",
    "train = ml_data[-test.indices,] \n",
    "#20% test set\n",
    "test = ml_data[test.indices,] \n",
    "\n",
    "train_x_scaled = data.frame(lapply(train[, 2:21], normalize))\n",
    "train_y = train[,2]\n",
    "\n",
    "test_x_scaled = data.frame(lapply(test[, 2:21], normalize))\n",
    "test_y = test[,2]"
   ]
  },
  {
   "cell_type": "markdown",
   "id": "c7e3e4e3",
   "metadata": {},
   "source": [
    "## find the best value of k"
   ]
  },
  {
   "cell_type": "markdown",
   "id": "89d8f4c5",
   "metadata": {},
   "source": [
    "### using the elbow method"
   ]
  },
  {
   "cell_type": "code",
   "execution_count": 9,
   "id": "26b61fab",
   "metadata": {},
   "outputs": [],
   "source": [
    "# sjPlot::sjc.elbow(rbind(train_x_scaled, test_x_scaled))"
   ]
  },
  {
   "cell_type": "markdown",
   "id": "9c5bf292",
   "metadata": {},
   "source": [
    "### using the caret package"
   ]
  },
  {
   "cell_type": "code",
   "execution_count": 10,
   "id": "a8ec231b",
   "metadata": {},
   "outputs": [
    {
     "data": {
      "text/plain": [
       "k-Nearest Neighbors \n",
       "\n",
       "947 samples\n",
       " 20 predictor\n",
       "\n",
       "Pre-processing: centered (20), scaled (20) \n",
       "Resampling: Cross-Validated (10 fold, repeated 2 times) \n",
       "Summary of sample sizes: 854, 851, 853, 852, 853, 852, ... \n",
       "Resampling results across tuning parameters:\n",
       "\n",
       "  k   RMSE       Rsquared    MAE      \n",
       "   5  0.1789501  0.03235133  0.1297390\n",
       "   7  0.1733003  0.03976296  0.1249203\n",
       "   9  0.1715256  0.03852065  0.1231777\n",
       "  11  0.1690879  0.04859412  0.1216246\n",
       "  13  0.1677229  0.05197411  0.1211286\n",
       "  15  0.1669249  0.05762919  0.1206397\n",
       "  17  0.1665055  0.05855529  0.1204732\n",
       "  19  0.1658286  0.06185180  0.1195796\n",
       "  21  0.1652498  0.06699059  0.1191978\n",
       "  23  0.1648331  0.06863608  0.1187171\n",
       "  25  0.1648957  0.06968779  0.1185809\n",
       "  27  0.1647099  0.07086546  0.1184485\n",
       "  29  0.1648763  0.06916393  0.1185996\n",
       "  31  0.1651246  0.06610138  0.1187188\n",
       "  33  0.1652275  0.06394216  0.1188086\n",
       "  35  0.1654429  0.06211670  0.1187884\n",
       "  37  0.1654325  0.06239666  0.1185376\n",
       "  39  0.1653158  0.06303987  0.1184621\n",
       "  41  0.1650832  0.06623773  0.1182861\n",
       "  43  0.1648274  0.07008602  0.1182406\n",
       "\n",
       "RMSE was used to select the optimal model using the smallest value.\n",
       "The final value used for the model was k = 27."
      ]
     },
     "metadata": {},
     "output_type": "display_data"
    }
   ],
   "source": [
    "# The tuneLength parameter tells the algorithm to try different default values\n",
    "# for the main parameter\n",
    "set.seed(1)\n",
    "ctrl <- trainControl(method = \"repeatedcv\", repeats = 2)\n",
    "knnFit <- caret::train(avg_perc_change ~ ., data = train, method = \"knn\", trControl = ctrl,\n",
    "    preProcess = c(\"center\", \"scale\"), tuneLength = 20)\n",
    "knnFit"
   ]
  },
  {
   "cell_type": "code",
   "execution_count": 11,
   "id": "970e366a",
   "metadata": {
    "scrolled": true
   },
   "outputs": [
    {
     "data": {
      "image/png": "[encoded data removed]",
      "text/plain": [
       "plot without title"
      ]
     },
     "metadata": {
      "image/png": {
       "height": 420,
       "width": 420
      }
     },
     "output_type": "display_data"
    }
   ],
   "source": [
    "#Use plots to see optimal number of clusters:\n",
    "#Plotting yields Number of Neighbours Vs accuracy (based on repeated cross validation)\n",
    "plot(knnFit)"
   ]
  },
  {
   "cell_type": "code",
   "execution_count": 12,
   "id": "f06f97c1",
   "metadata": {},
   "outputs": [],
   "source": [
    "predictions <- knn(train=train_x_scaled, test=test_x_scaled, cl=train_y, k = 25)"
   ]
  },
  {
   "cell_type": "code",
   "execution_count": 14,
   "id": "6962ff5c",
   "metadata": {},
   "outputs": [],
   "source": [
    "reg_results <- knn.reg(as.data.frame(train_x_scaled), as.data.frame(test_x_scaled), train_y, k = 25)"
   ]
  },
  {
   "cell_type": "code",
   "execution_count": 15,
   "id": "bc5be260",
   "metadata": {},
   "outputs": [
    {
     "data": {
      "image/png": "[encoded data removed]",
      "text/plain": [
       "plot without title"
      ]
     },
     "metadata": {
      "image/png": {
       "height": 420,
       "width": 420
      }
     },
     "output_type": "display_data"
    }
   ],
   "source": [
    "plot(test_y, reg_results$pred)"
   ]
  },
  {
   "cell_type": "markdown",
   "id": "c24892d6",
   "metadata": {},
   "source": [
    "If the values were perfectly predicted, we would expect to see points along the y = x line (the lower-left to upper-right diagonal if the scales on each axis of the plot are the same)."
   ]
  },
  {
   "cell_type": "markdown",
   "id": "f7c31b48",
   "metadata": {},
   "source": [
    "# final RSME: 0.1647099"
   ]
  },
  {
   "cell_type": "markdown",
   "id": "c1333f6f",
   "metadata": {},
   "source": [
    "roc_auc_score coincides with “the probability that a classifier will rank a randomly chosen positive instance higher than a randomly chosen negative one”.\n",
    "In other words, if we take any two observations a and b such that a > b, then roc_auc_score is equal to the probability that our model actually ranks a higher than b."
   ]
  },
  {
   "cell_type": "markdown",
   "id": "9719c12b",
   "metadata": {},
   "source": [
    "## naive_roc_auc_score \n",
    "https://towardsdatascience.com/how-to-calculate-roc-auc-score-for-regression-models-c0be4fdf76bb"
   ]
  },
  {
   "cell_type": "code",
   "execution_count": 18,
   "id": "2e6f4c68",
   "metadata": {},
   "outputs": [],
   "source": [
    "naive_roc_auc_score <- function(y_true, y_pred) {\n",
    "    num_same_sign <- 0\n",
    "    num_pairs <- 0 \n",
    "    \n",
    "    for(a in 1:length(y_true))\n",
    "    {\n",
    "        for(b in 1:length(y_true))\n",
    "        {\n",
    "            if (y_true[a] > y_true[b]) {\n",
    "                \n",
    "                num_pairs <- num_pairs + 1\n",
    "                \n",
    "                if (y_pred[a] > y_pred[b]) {\n",
    "                \n",
    "                    num_same_sign <- num_same_sign + 1\n",
    "                }\n",
    "                else if (y_pred[a] == y_pred[b]) {\n",
    "                    \n",
    "                    num_same_sign <- num_same_sign + .5\n",
    "                }\n",
    "            }\n",
    "        }\n",
    "    }\n",
    "    num_same_sign / num_pairs\n",
    "}"
   ]
  },
  {
   "cell_type": "code",
   "execution_count": 19,
   "id": "ca9be7a1",
   "metadata": {},
   "outputs": [
    {
     "data": {
      "text/html": [
       "0.812938063224145"
      ],
      "text/latex": [
       "0.812938063224145"
      ],
      "text/markdown": [
       "0.812938063224145"
      ],
      "text/plain": [
       "[1] 0.8129381"
      ]
     },
     "metadata": {},
     "output_type": "display_data"
    }
   ],
   "source": [
    "naive_roc_auc_score(test_y, reg_results$pred)"
   ]
  }
 ],
 "metadata": {
  "kernelspec": {
   "display_name": "R",
   "language": "R",
   "name": "ir"
  },
  "language_info": {
   "codemirror_mode": "r",
   "file_extension": ".r",
   "mimetype": "text/x-r-source",
   "name": "R",
   "pygments_lexer": "r",
   "version": "4.1.1"
  }
 },
 "nbformat": 4,
 "nbformat_minor": 5
}
