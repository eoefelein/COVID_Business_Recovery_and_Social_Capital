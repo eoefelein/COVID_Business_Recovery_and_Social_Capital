{
 "cells": [
  {
   "cell_type": "code",
   "execution_count": 7,
   "id": "d3005218",
   "metadata": {},
   "outputs": [],
   "source": [
    "# devtools::install_url(\"https://github.com/catboost/catboost/releases/download/v0.20/catboost-R-Windows-0.20.tgz\",\n",
    "#     INSTALL_opts = c(\"--no-multiarch\", \"--no-test-load\"))"
   ]
  },
  {
   "cell_type": "code",
   "execution_count": 8,
   "id": "12485815",
   "metadata": {},
   "outputs": [
    {
     "name": "stderr",
     "output_type": "stream",
     "text": [
      "\n",
      "Attaching package: 'dplyr'\n",
      "\n",
      "\n",
      "The following objects are masked from 'package:stats':\n",
      "\n",
      "    filter, lag\n",
      "\n",
      "\n",
      "The following objects are masked from 'package:base':\n",
      "\n",
      "    intersect, setdiff, setequal, union\n",
      "\n",
      "\n"
     ]
    }
   ],
   "source": [
    "library(dplyr)\n",
    "# https://medium.com/ampersand-academy/how-to-create-regression-model-using-catboost-package-in-r-programming-6cce3805a5e1\n",
    "library(mlbench)\n",
    "library(catboost)\n",
    "library(caret)"
   ]
  },
  {
   "cell_type": "markdown",
   "id": "30cfd6df",
   "metadata": {},
   "source": [
    "## import data"
   ]
  },
  {
   "cell_type": "code",
   "execution_count": 9,
   "id": "3abe1a7e",
   "metadata": {},
   "outputs": [],
   "source": [
    "ml_data <- read.csv('ml_predict_data.csv')"
   ]
  },
  {
   "cell_type": "code",
   "execution_count": 10,
   "id": "7fb863ec",
   "metadata": {},
   "outputs": [],
   "source": [
    "# assign countyname col to ml_data idx\n",
    "row.names(ml_data) <- ml_data$X\n",
    "# drop X col\n",
    "drops <- c('X')\n",
    "ml_data <- ml_data[, !(names(ml_data) %in% drops)]"
   ]
  },
  {
   "cell_type": "markdown",
   "id": "91e81bb0",
   "metadata": {},
   "source": [
    "## split to test and train"
   ]
  },
  {
   "cell_type": "code",
   "execution_count": 11,
   "id": "0bc6b158",
   "metadata": {},
   "outputs": [],
   "source": [
    "# Split out validation dataset\n",
    "# create a list of 80% of the rows in the original dataset we can use for training\n",
    "set.seed(1)\n",
    "validation_index <- createDataPartition(ml_data$avg_perc_change, p=0.80, list=FALSE)\n",
    "# select 20% of the data for validation\n",
    "testing <- ml_data[-validation_index,]\n",
    "# use the remaining 80% of data to training and testing the models\n",
    "training <- ml_data[validation_index,]"
   ]
  },
  {
   "cell_type": "code",
   "execution_count": 12,
   "id": "a6aa0435",
   "metadata": {},
   "outputs": [],
   "source": [
    "y_train <- unlist(training[c('avg_perc_change')])\n",
    "X_train <- training %>% select(-avg_perc_change)\n",
    "\n",
    "y_test <- unlist(testing[c('avg_perc_change')])\n",
    "X_test <- testing %>% select(-avg_perc_change)"
   ]
  },
  {
   "cell_type": "markdown",
   "id": "bae22b9e",
   "metadata": {},
   "source": [
    "## convert to catboost specified formt"
   ]
  },
  {
   "cell_type": "code",
   "execution_count": 13,
   "id": "6d8b98b2",
   "metadata": {},
   "outputs": [],
   "source": [
    "train_pool <- catboost.load_pool(data = X_train, label = y_train)\n",
    "test_pool <- catboost.load_pool(data = X_test, label = y_test)"
   ]
  },
  {
   "cell_type": "markdown",
   "id": "f2e0376e",
   "metadata": {},
   "source": [
    "## hyperparmeters"
   ]
  },
  {
   "cell_type": "code",
   "execution_count": 14,
   "id": "a94db549",
   "metadata": {},
   "outputs": [],
   "source": [
    "params <- list(iterations = 500, learning_rate = 0.01, depth = 10, loss_function = \"RMSE\",\n",
    "    eval_metric = \"RMSE\", random_seed = 0, od_type = \"Iter\", metric_period = 50,\n",
    "    od_wait = 20, use_best_model = TRUE)"
   ]
  },
  {
   "cell_type": "markdown",
   "id": "62d75a54",
   "metadata": {},
   "source": [
    "## train the model"
   ]
  },
  {
   "cell_type": "code",
   "execution_count": 15,
   "id": "69055b30",
   "metadata": {},
   "outputs": [
    {
     "name": "stdout",
     "output_type": "stream",
     "text": [
      "You should provide test set for use best model. use_best_model parameter has been switched to false value.\n",
      "0:\tlearn: 0.1690426\ttotal: 185ms\tremaining: 1m 32s\n",
      "50:\tlearn: 0.1538577\ttotal: 2.69s\tremaining: 23.7s\n",
      "100:\tlearn: 0.1411900\ttotal: 5.01s\tremaining: 19.8s\n",
      "150:\tlearn: 0.1302376\ttotal: 7.41s\tremaining: 17.1s\n",
      "200:\tlearn: 0.1206829\ttotal: 9.94s\tremaining: 14.8s\n",
      "250:\tlearn: 0.1124546\ttotal: 12.6s\tremaining: 12.5s\n",
      "300:\tlearn: 0.1051598\ttotal: 15s\tremaining: 9.93s\n",
      "350:\tlearn: 0.0985117\ttotal: 17.4s\tremaining: 7.38s\n",
      "400:\tlearn: 0.0925348\ttotal: 19.7s\tremaining: 4.87s\n",
      "450:\tlearn: 0.0873162\ttotal: 22.2s\tremaining: 2.41s\n",
      "499:\tlearn: 0.0825775\ttotal: 24.5s\tremaining: 0us\n"
     ]
    }
   ],
   "source": [
    "model <- catboost.train(learn_pool = train_pool, params = params)"
   ]
  },
  {
   "cell_type": "markdown",
   "id": "70be240e",
   "metadata": {},
   "source": [
    "## make predictions"
   ]
  },
  {
   "cell_type": "code",
   "execution_count": 16,
   "id": "232f7da6",
   "metadata": {},
   "outputs": [],
   "source": [
    "#predict\n",
    "y_pred=catboost.predict(model,test_pool)"
   ]
  },
  {
   "cell_type": "code",
   "execution_count": 20,
   "id": "22622532",
   "metadata": {},
   "outputs": [
    {
     "data": {
      "text/html": [
       "<style>\n",
       ".dl-inline {width: auto; margin:0; padding: 0}\n",
       ".dl-inline>dt, .dl-inline>dd {float: none; width: auto; display: inline-block}\n",
       ".dl-inline>dt::after {content: \":\\0020\"; padding-right: .5ex}\n",
       ".dl-inline>dt:not(:first-of-type) {padding-left: .5ex}\n",
       "</style><dl class=dl-inline><dt>RMSE</dt><dd>0.150356883735857</dd><dt>Rsquared</dt><dd>0.100048313072715</dd><dt>MAE</dt><dd>0.110702846064656</dd></dl>\n"
      ],
      "text/latex": [
       "\\begin{description*}\n",
       "\\item[RMSE] 0.150356883735857\n",
       "\\item[Rsquared] 0.100048313072715\n",
       "\\item[MAE] 0.110702846064656\n",
       "\\end{description*}\n"
      ],
      "text/markdown": [
       "RMSE\n",
       ":   0.150356883735857Rsquared\n",
       ":   0.100048313072715MAE\n",
       ":   0.110702846064656\n",
       "\n"
      ],
      "text/plain": [
       "     RMSE  Rsquared       MAE \n",
       "0.1503569 0.1000483 0.1107028 "
      ]
     },
     "metadata": {},
     "output_type": "display_data"
    }
   ],
   "source": [
    "postResample(y_pred,testing$avg_perc_change)"
   ]
  },
  {
   "cell_type": "markdown",
   "id": "6dcf97a8",
   "metadata": {},
   "source": [
    "## naive_roc_auc_score "
   ]
  },
  {
   "cell_type": "code",
   "execution_count": 17,
   "id": "662159c1",
   "metadata": {},
   "outputs": [],
   "source": [
    "naive_roc_auc_score <- function(y_true, y_pred) {\n",
    "    num_same_sign <- 0\n",
    "    num_pairs <- 0 \n",
    "    \n",
    "    for(a in 1:length(y_true))\n",
    "    {\n",
    "        for(b in 1:length(y_true))\n",
    "        {\n",
    "            if (y_true[a] > y_true[b]) {\n",
    "                \n",
    "                num_pairs <- num_pairs + 1\n",
    "                \n",
    "                if (y_pred[a] > y_pred[b]) {\n",
    "                \n",
    "                    num_same_sign <- num_same_sign + 1\n",
    "                }\n",
    "                else if (y_pred[a] == y_pred[b]) {\n",
    "                    \n",
    "                    num_same_sign <- num_same_sign + .5\n",
    "                }\n",
    "            }\n",
    "        }\n",
    "    }\n",
    "    num_same_sign / num_pairs\n",
    "}"
   ]
  },
  {
   "cell_type": "code",
   "execution_count": 19,
   "id": "e51602aa",
   "metadata": {},
   "outputs": [
    {
     "data": {
      "text/html": [
       "0.599242697439596"
      ],
      "text/latex": [
       "0.599242697439596"
      ],
      "text/markdown": [
       "0.599242697439596"
      ],
      "text/plain": [
       "[1] 0.5992427"
      ]
     },
     "metadata": {},
     "output_type": "display_data"
    }
   ],
   "source": [
    "naive_roc_auc_score(y_test, y_pred)"
   ]
  }
 ],
 "metadata": {
  "kernelspec": {
   "display_name": "R",
   "language": "R",
   "name": "ir"
  },
  "language_info": {
   "codemirror_mode": "r",
   "file_extension": ".r",
   "mimetype": "text/x-r-source",
   "name": "R",
   "pygments_lexer": "r",
   "version": "4.1.1"
  }
 },
 "nbformat": 4,
 "nbformat_minor": 5
}
